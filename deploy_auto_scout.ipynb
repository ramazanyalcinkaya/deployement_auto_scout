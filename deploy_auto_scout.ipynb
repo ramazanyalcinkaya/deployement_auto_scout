{
 "cells": [
  {
   "cell_type": "code",
   "execution_count": 2,
   "id": "df949459",
   "metadata": {},
   "outputs": [],
   "source": [
    "import pandas as pd      \n",
    "import numpy as np \n",
    "import matplotlib.pyplot as plt\n",
    "import seaborn as sns\n",
    "from sklearn.preprocessing import StandardScaler, MinMaxScaler, RobustScaler\n",
    "from sklearn.metrics import mean_squared_error, mean_absolute_error, r2_score\n",
    "from sklearn.model_selection import train_test_split\n",
    "from sklearn.preprocessing import OneHotEncoder\n",
    "\n",
    "from sklearn.model_selection import cross_validate\n",
    "import warnings\n",
    "warnings.filterwarnings('ignore')\n",
    "plt.rcParams[\"figure.figsize\"] = (7,4)\n",
    "pd.set_option('display.max_columns', 500)\n",
    "pd.set_option('display.max_rows', 500)\n",
    "pd.options.display.float_format = '{:,.1f}'.format"
   ]
  },
  {
   "cell_type": "code",
   "execution_count": 3,
   "id": "b710107e",
   "metadata": {},
   "outputs": [],
   "source": [
    "df=pd.read_csv(\"final_scout_not_dummy.csv\")"
   ]
  },
  {
   "cell_type": "code",
   "execution_count": 4,
   "id": "1920b78c",
   "metadata": {},
   "outputs": [
    {
     "data": {
      "text/html": [
       "<div>\n",
       "<style scoped>\n",
       "    .dataframe tbody tr th:only-of-type {\n",
       "        vertical-align: middle;\n",
       "    }\n",
       "\n",
       "    .dataframe tbody tr th {\n",
       "        vertical-align: top;\n",
       "    }\n",
       "\n",
       "    .dataframe thead th {\n",
       "        text-align: right;\n",
       "    }\n",
       "</style>\n",
       "<table border=\"1\" class=\"dataframe\">\n",
       "  <thead>\n",
       "    <tr style=\"text-align: right;\">\n",
       "      <th></th>\n",
       "      <th>make_model</th>\n",
       "      <th>body_type</th>\n",
       "      <th>price</th>\n",
       "      <th>vat</th>\n",
       "      <th>km</th>\n",
       "      <th>Type</th>\n",
       "      <th>Fuel</th>\n",
       "      <th>Gears</th>\n",
       "      <th>Comfort_Convenience</th>\n",
       "      <th>Entertainment_Media</th>\n",
       "      <th>Extras</th>\n",
       "      <th>Safety_Security</th>\n",
       "      <th>age</th>\n",
       "      <th>Previous_Owners</th>\n",
       "      <th>hp_kW</th>\n",
       "      <th>Inspection_new</th>\n",
       "      <th>Paint_Type</th>\n",
       "      <th>Upholstery_type</th>\n",
       "      <th>Gearing_Type</th>\n",
       "      <th>Displacement_cc</th>\n",
       "      <th>Weight_kg</th>\n",
       "      <th>Drive_chain</th>\n",
       "      <th>cons_comb</th>\n",
       "    </tr>\n",
       "  </thead>\n",
       "  <tbody>\n",
       "    <tr>\n",
       "      <th>0</th>\n",
       "      <td>Audi A1</td>\n",
       "      <td>Sedans</td>\n",
       "      <td>15770</td>\n",
       "      <td>VAT deductible</td>\n",
       "      <td>56,013.0</td>\n",
       "      <td>Used</td>\n",
       "      <td>Diesel</td>\n",
       "      <td>7.0</td>\n",
       "      <td>Air conditioning,Armrest,Automatic climate con...</td>\n",
       "      <td>Bluetooth,Hands-free equipment,On-board comput...</td>\n",
       "      <td>Alloy wheels,Catalytic Converter,Voice Control</td>\n",
       "      <td>ABS,Central door lock,Daytime running lights,D...</td>\n",
       "      <td>3.0</td>\n",
       "      <td>2.0</td>\n",
       "      <td>66.0</td>\n",
       "      <td>1</td>\n",
       "      <td>Metallic</td>\n",
       "      <td>Cloth</td>\n",
       "      <td>Automatic</td>\n",
       "      <td>1,422.0</td>\n",
       "      <td>1,220.0</td>\n",
       "      <td>front</td>\n",
       "      <td>3.8</td>\n",
       "    </tr>\n",
       "    <tr>\n",
       "      <th>1</th>\n",
       "      <td>Audi A1</td>\n",
       "      <td>Sedans</td>\n",
       "      <td>14500</td>\n",
       "      <td>Price negotiable</td>\n",
       "      <td>80,000.0</td>\n",
       "      <td>Used</td>\n",
       "      <td>Benzine</td>\n",
       "      <td>7.0</td>\n",
       "      <td>Air conditioning,Automatic climate control,Hil...</td>\n",
       "      <td>Bluetooth,Hands-free equipment,On-board comput...</td>\n",
       "      <td>Alloy wheels,Sport seats,Sport suspension,Voic...</td>\n",
       "      <td>ABS,Central door lock,Central door lock with r...</td>\n",
       "      <td>2.0</td>\n",
       "      <td>1.0</td>\n",
       "      <td>141.0</td>\n",
       "      <td>0</td>\n",
       "      <td>Metallic</td>\n",
       "      <td>Cloth</td>\n",
       "      <td>Automatic</td>\n",
       "      <td>1,798.0</td>\n",
       "      <td>1,255.0</td>\n",
       "      <td>front</td>\n",
       "      <td>5.6</td>\n",
       "    </tr>\n",
       "    <tr>\n",
       "      <th>2</th>\n",
       "      <td>Audi A1</td>\n",
       "      <td>Sedans</td>\n",
       "      <td>14640</td>\n",
       "      <td>VAT deductible</td>\n",
       "      <td>83,450.0</td>\n",
       "      <td>Used</td>\n",
       "      <td>Diesel</td>\n",
       "      <td>7.0</td>\n",
       "      <td>Air conditioning,Cruise control,Electrical sid...</td>\n",
       "      <td>MP3,On-board computer</td>\n",
       "      <td>Alloy wheels,Voice Control</td>\n",
       "      <td>ABS,Central door lock,Daytime running lights,D...</td>\n",
       "      <td>3.0</td>\n",
       "      <td>1.0</td>\n",
       "      <td>85.0</td>\n",
       "      <td>0</td>\n",
       "      <td>Metallic</td>\n",
       "      <td>Cloth</td>\n",
       "      <td>Automatic</td>\n",
       "      <td>1,598.0</td>\n",
       "      <td>1,135.0</td>\n",
       "      <td>front</td>\n",
       "      <td>3.8</td>\n",
       "    </tr>\n",
       "    <tr>\n",
       "      <th>3</th>\n",
       "      <td>Audi A1</td>\n",
       "      <td>Sedans</td>\n",
       "      <td>14500</td>\n",
       "      <td>VAT deductible</td>\n",
       "      <td>73,000.0</td>\n",
       "      <td>Used</td>\n",
       "      <td>Diesel</td>\n",
       "      <td>6.0</td>\n",
       "      <td>Air suspension,Armrest,Auxiliary heating,Elect...</td>\n",
       "      <td>Bluetooth,CD player,Hands-free equipment,MP3,O...</td>\n",
       "      <td>Alloy wheels,Sport seats,Voice Control</td>\n",
       "      <td>ABS,Alarm system,Central door lock with remote...</td>\n",
       "      <td>3.0</td>\n",
       "      <td>1.0</td>\n",
       "      <td>66.0</td>\n",
       "      <td>0</td>\n",
       "      <td>Metallic</td>\n",
       "      <td>Cloth</td>\n",
       "      <td>Automatic</td>\n",
       "      <td>1,422.0</td>\n",
       "      <td>1,195.0</td>\n",
       "      <td>front</td>\n",
       "      <td>3.8</td>\n",
       "    </tr>\n",
       "    <tr>\n",
       "      <th>4</th>\n",
       "      <td>Audi A1</td>\n",
       "      <td>Sedans</td>\n",
       "      <td>16790</td>\n",
       "      <td>VAT deductible</td>\n",
       "      <td>16,200.0</td>\n",
       "      <td>Used</td>\n",
       "      <td>Diesel</td>\n",
       "      <td>7.0</td>\n",
       "      <td>Air conditioning,Armrest,Automatic climate con...</td>\n",
       "      <td>Bluetooth,CD player,Hands-free equipment,MP3,O...</td>\n",
       "      <td>Alloy wheels,Sport package,Sport suspension,Vo...</td>\n",
       "      <td>ABS,Central door lock,Driver-side airbag,Elect...</td>\n",
       "      <td>3.0</td>\n",
       "      <td>1.0</td>\n",
       "      <td>66.0</td>\n",
       "      <td>1</td>\n",
       "      <td>Metallic</td>\n",
       "      <td>Cloth</td>\n",
       "      <td>Automatic</td>\n",
       "      <td>1,422.0</td>\n",
       "      <td>1,135.0</td>\n",
       "      <td>front</td>\n",
       "      <td>4.1</td>\n",
       "    </tr>\n",
       "  </tbody>\n",
       "</table>\n",
       "</div>"
      ],
      "text/plain": [
       "  make_model body_type  price               vat       km  Type     Fuel  \\\n",
       "0    Audi A1    Sedans  15770    VAT deductible 56,013.0  Used   Diesel   \n",
       "1    Audi A1    Sedans  14500  Price negotiable 80,000.0  Used  Benzine   \n",
       "2    Audi A1    Sedans  14640    VAT deductible 83,450.0  Used   Diesel   \n",
       "3    Audi A1    Sedans  14500    VAT deductible 73,000.0  Used   Diesel   \n",
       "4    Audi A1    Sedans  16790    VAT deductible 16,200.0  Used   Diesel   \n",
       "\n",
       "   Gears                                Comfort_Convenience  \\\n",
       "0    7.0  Air conditioning,Armrest,Automatic climate con...   \n",
       "1    7.0  Air conditioning,Automatic climate control,Hil...   \n",
       "2    7.0  Air conditioning,Cruise control,Electrical sid...   \n",
       "3    6.0  Air suspension,Armrest,Auxiliary heating,Elect...   \n",
       "4    7.0  Air conditioning,Armrest,Automatic climate con...   \n",
       "\n",
       "                                 Entertainment_Media  \\\n",
       "0  Bluetooth,Hands-free equipment,On-board comput...   \n",
       "1  Bluetooth,Hands-free equipment,On-board comput...   \n",
       "2                              MP3,On-board computer   \n",
       "3  Bluetooth,CD player,Hands-free equipment,MP3,O...   \n",
       "4  Bluetooth,CD player,Hands-free equipment,MP3,O...   \n",
       "\n",
       "                                              Extras  \\\n",
       "0     Alloy wheels,Catalytic Converter,Voice Control   \n",
       "1  Alloy wheels,Sport seats,Sport suspension,Voic...   \n",
       "2                         Alloy wheels,Voice Control   \n",
       "3             Alloy wheels,Sport seats,Voice Control   \n",
       "4  Alloy wheels,Sport package,Sport suspension,Vo...   \n",
       "\n",
       "                                     Safety_Security  age  Previous_Owners  \\\n",
       "0  ABS,Central door lock,Daytime running lights,D...  3.0              2.0   \n",
       "1  ABS,Central door lock,Central door lock with r...  2.0              1.0   \n",
       "2  ABS,Central door lock,Daytime running lights,D...  3.0              1.0   \n",
       "3  ABS,Alarm system,Central door lock with remote...  3.0              1.0   \n",
       "4  ABS,Central door lock,Driver-side airbag,Elect...  3.0              1.0   \n",
       "\n",
       "   hp_kW  Inspection_new Paint_Type Upholstery_type Gearing_Type  \\\n",
       "0   66.0               1   Metallic           Cloth    Automatic   \n",
       "1  141.0               0   Metallic           Cloth    Automatic   \n",
       "2   85.0               0   Metallic           Cloth    Automatic   \n",
       "3   66.0               0   Metallic           Cloth    Automatic   \n",
       "4   66.0               1   Metallic           Cloth    Automatic   \n",
       "\n",
       "   Displacement_cc  Weight_kg Drive_chain  cons_comb  \n",
       "0          1,422.0    1,220.0       front        3.8  \n",
       "1          1,798.0    1,255.0       front        5.6  \n",
       "2          1,598.0    1,135.0       front        3.8  \n",
       "3          1,422.0    1,195.0       front        3.8  \n",
       "4          1,422.0    1,135.0       front        4.1  "
      ]
     },
     "execution_count": 4,
     "metadata": {},
     "output_type": "execute_result"
    }
   ],
   "source": [
    "df.head()"
   ]
  },
  {
   "cell_type": "code",
   "execution_count": 5,
   "id": "0e10abb5",
   "metadata": {},
   "outputs": [
    {
     "name": "stdout",
     "output_type": "stream",
     "text": [
      "<class 'pandas.core.frame.DataFrame'>\n",
      "RangeIndex: 15915 entries, 0 to 15914\n",
      "Data columns (total 23 columns):\n",
      " #   Column               Non-Null Count  Dtype  \n",
      "---  ------               --------------  -----  \n",
      " 0   make_model           15915 non-null  object \n",
      " 1   body_type            15915 non-null  object \n",
      " 2   price                15915 non-null  int64  \n",
      " 3   vat                  15915 non-null  object \n",
      " 4   km                   15915 non-null  float64\n",
      " 5   Type                 15915 non-null  object \n",
      " 6   Fuel                 15915 non-null  object \n",
      " 7   Gears                15915 non-null  float64\n",
      " 8   Comfort_Convenience  15915 non-null  object \n",
      " 9   Entertainment_Media  15915 non-null  object \n",
      " 10  Extras               15915 non-null  object \n",
      " 11  Safety_Security      15915 non-null  object \n",
      " 12  age                  15915 non-null  float64\n",
      " 13  Previous_Owners      15915 non-null  float64\n",
      " 14  hp_kW                15915 non-null  float64\n",
      " 15  Inspection_new       15915 non-null  int64  \n",
      " 16  Paint_Type           15915 non-null  object \n",
      " 17  Upholstery_type      15915 non-null  object \n",
      " 18  Gearing_Type         15915 non-null  object \n",
      " 19  Displacement_cc      15915 non-null  float64\n",
      " 20  Weight_kg            15915 non-null  float64\n",
      " 21  Drive_chain          15915 non-null  object \n",
      " 22  cons_comb            15915 non-null  float64\n",
      "dtypes: float64(8), int64(2), object(13)\n",
      "memory usage: 2.8+ MB\n"
     ]
    }
   ],
   "source": [
    "df.info()"
   ]
  },
  {
   "cell_type": "code",
   "execution_count": 6,
   "id": "9d62cc94",
   "metadata": {},
   "outputs": [
    {
     "data": {
      "text/plain": [
       "(15915, 23)"
      ]
     },
     "execution_count": 6,
     "metadata": {},
     "output_type": "execute_result"
    }
   ],
   "source": [
    "df.shape"
   ]
  },
  {
   "cell_type": "code",
   "execution_count": 7,
   "id": "90fa163a",
   "metadata": {},
   "outputs": [
    {
     "data": {
      "text/plain": [
       "Index(['make_model', 'body_type', 'price', 'vat', 'km', 'Type', 'Fuel',\n",
       "       'Gears', 'Comfort_Convenience', 'Entertainment_Media', 'Extras',\n",
       "       'Safety_Security', 'age', 'Previous_Owners', 'hp_kW', 'Inspection_new',\n",
       "       'Paint_Type', 'Upholstery_type', 'Gearing_Type', 'Displacement_cc',\n",
       "       'Weight_kg', 'Drive_chain', 'cons_comb'],\n",
       "      dtype='object')"
      ]
     },
     "execution_count": 7,
     "metadata": {},
     "output_type": "execute_result"
    }
   ],
   "source": [
    "df.columns"
   ]
  },
  {
   "cell_type": "code",
   "execution_count": 8,
   "id": "35aa4959",
   "metadata": {},
   "outputs": [
    {
     "name": "stdout",
     "output_type": "stream",
     "text": [
      "Numerical Columns:  Index(['price', 'km', 'Gears', 'age', 'Previous_Owners', 'hp_kW',\n",
      "       'Inspection_new', 'Displacement_cc', 'Weight_kg', 'cons_comb'],\n",
      "      dtype='object')\n",
      "\n",
      "\n",
      "Categorical Columns: Index(['make_model', 'body_type', 'vat', 'Type', 'Fuel', 'Comfort_Convenience',\n",
      "       'Entertainment_Media', 'Extras', 'Safety_Security', 'Paint_Type',\n",
      "       'Upholstery_type', 'Gearing_Type', 'Drive_chain'],\n",
      "      dtype='object')\n"
     ]
    }
   ],
   "source": [
    "numerical= df.select_dtypes('number').columns\n",
    "categorical = df.select_dtypes('object').columns\n",
    "\n",
    "print(f'Numerical Columns:  {df[numerical].columns}')\n",
    "print('\\n')\n",
    "print(f'Categorical Columns: {df[categorical].columns}')"
   ]
  },
  {
   "cell_type": "code",
   "execution_count": 9,
   "id": "42bf3ead",
   "metadata": {},
   "outputs": [
    {
     "data": {
      "text/html": [
       "<div>\n",
       "<style scoped>\n",
       "    .dataframe tbody tr th:only-of-type {\n",
       "        vertical-align: middle;\n",
       "    }\n",
       "\n",
       "    .dataframe tbody tr th {\n",
       "        vertical-align: top;\n",
       "    }\n",
       "\n",
       "    .dataframe thead th {\n",
       "        text-align: right;\n",
       "    }\n",
       "</style>\n",
       "<table border=\"1\" class=\"dataframe\">\n",
       "  <thead>\n",
       "    <tr style=\"text-align: right;\">\n",
       "      <th></th>\n",
       "      <th>price</th>\n",
       "      <th>km</th>\n",
       "      <th>Gears</th>\n",
       "      <th>age</th>\n",
       "      <th>Previous_Owners</th>\n",
       "      <th>hp_kW</th>\n",
       "      <th>Inspection_new</th>\n",
       "      <th>Displacement_cc</th>\n",
       "      <th>Weight_kg</th>\n",
       "      <th>cons_comb</th>\n",
       "    </tr>\n",
       "  </thead>\n",
       "  <tbody>\n",
       "    <tr>\n",
       "      <th>count</th>\n",
       "      <td>15,915.0</td>\n",
       "      <td>15,915.0</td>\n",
       "      <td>15,915.0</td>\n",
       "      <td>15,915.0</td>\n",
       "      <td>15,915.0</td>\n",
       "      <td>15,915.0</td>\n",
       "      <td>15,915.0</td>\n",
       "      <td>15,915.0</td>\n",
       "      <td>15,915.0</td>\n",
       "      <td>15,915.0</td>\n",
       "    </tr>\n",
       "    <tr>\n",
       "      <th>mean</th>\n",
       "      <td>18,024.4</td>\n",
       "      <td>32,090.0</td>\n",
       "      <td>5.9</td>\n",
       "      <td>1.4</td>\n",
       "      <td>1.0</td>\n",
       "      <td>88.5</td>\n",
       "      <td>0.2</td>\n",
       "      <td>1,428.7</td>\n",
       "      <td>1,337.7</td>\n",
       "      <td>4.8</td>\n",
       "    </tr>\n",
       "    <tr>\n",
       "      <th>std</th>\n",
       "      <td>7,381.7</td>\n",
       "      <td>36,977.2</td>\n",
       "      <td>0.7</td>\n",
       "      <td>1.1</td>\n",
       "      <td>0.3</td>\n",
       "      <td>26.7</td>\n",
       "      <td>0.4</td>\n",
       "      <td>275.8</td>\n",
       "      <td>199.7</td>\n",
       "      <td>0.9</td>\n",
       "    </tr>\n",
       "    <tr>\n",
       "      <th>min</th>\n",
       "      <td>4,950.0</td>\n",
       "      <td>0.0</td>\n",
       "      <td>5.0</td>\n",
       "      <td>0.0</td>\n",
       "      <td>0.0</td>\n",
       "      <td>40.0</td>\n",
       "      <td>0.0</td>\n",
       "      <td>890.0</td>\n",
       "      <td>840.0</td>\n",
       "      <td>3.0</td>\n",
       "    </tr>\n",
       "    <tr>\n",
       "      <th>25%</th>\n",
       "      <td>12,850.0</td>\n",
       "      <td>1,920.5</td>\n",
       "      <td>5.0</td>\n",
       "      <td>0.0</td>\n",
       "      <td>1.0</td>\n",
       "      <td>66.0</td>\n",
       "      <td>0.0</td>\n",
       "      <td>1,229.0</td>\n",
       "      <td>1,165.0</td>\n",
       "      <td>4.1</td>\n",
       "    </tr>\n",
       "    <tr>\n",
       "      <th>50%</th>\n",
       "      <td>16,900.0</td>\n",
       "      <td>20,413.0</td>\n",
       "      <td>6.0</td>\n",
       "      <td>1.0</td>\n",
       "      <td>1.0</td>\n",
       "      <td>85.0</td>\n",
       "      <td>0.0</td>\n",
       "      <td>1,461.0</td>\n",
       "      <td>1,295.0</td>\n",
       "      <td>4.8</td>\n",
       "    </tr>\n",
       "    <tr>\n",
       "      <th>75%</th>\n",
       "      <td>21,900.0</td>\n",
       "      <td>46,900.0</td>\n",
       "      <td>6.0</td>\n",
       "      <td>2.0</td>\n",
       "      <td>1.0</td>\n",
       "      <td>103.0</td>\n",
       "      <td>0.0</td>\n",
       "      <td>1,598.0</td>\n",
       "      <td>1,472.0</td>\n",
       "      <td>5.4</td>\n",
       "    </tr>\n",
       "    <tr>\n",
       "      <th>max</th>\n",
       "      <td>74,600.0</td>\n",
       "      <td>317,000.0</td>\n",
       "      <td>8.0</td>\n",
       "      <td>3.0</td>\n",
       "      <td>4.0</td>\n",
       "      <td>294.0</td>\n",
       "      <td>1.0</td>\n",
       "      <td>2,967.0</td>\n",
       "      <td>2,471.0</td>\n",
       "      <td>9.1</td>\n",
       "    </tr>\n",
       "  </tbody>\n",
       "</table>\n",
       "</div>"
      ],
      "text/plain": [
       "         price        km    Gears      age  Previous_Owners    hp_kW  \\\n",
       "count 15,915.0  15,915.0 15,915.0 15,915.0         15,915.0 15,915.0   \n",
       "mean  18,024.4  32,090.0      5.9      1.4              1.0     88.5   \n",
       "std    7,381.7  36,977.2      0.7      1.1              0.3     26.7   \n",
       "min    4,950.0       0.0      5.0      0.0              0.0     40.0   \n",
       "25%   12,850.0   1,920.5      5.0      0.0              1.0     66.0   \n",
       "50%   16,900.0  20,413.0      6.0      1.0              1.0     85.0   \n",
       "75%   21,900.0  46,900.0      6.0      2.0              1.0    103.0   \n",
       "max   74,600.0 317,000.0      8.0      3.0              4.0    294.0   \n",
       "\n",
       "       Inspection_new  Displacement_cc  Weight_kg  cons_comb  \n",
       "count        15,915.0         15,915.0   15,915.0   15,915.0  \n",
       "mean              0.2          1,428.7    1,337.7        4.8  \n",
       "std               0.4            275.8      199.7        0.9  \n",
       "min               0.0            890.0      840.0        3.0  \n",
       "25%               0.0          1,229.0    1,165.0        4.1  \n",
       "50%               0.0          1,461.0    1,295.0        4.8  \n",
       "75%               0.0          1,598.0    1,472.0        5.4  \n",
       "max               1.0          2,967.0    2,471.0        9.1  "
      ]
     },
     "execution_count": 9,
     "metadata": {},
     "output_type": "execute_result"
    }
   ],
   "source": [
    "df.describe()"
   ]
  },
  {
   "cell_type": "code",
   "execution_count": 10,
   "id": "5c2499ea",
   "metadata": {},
   "outputs": [
    {
     "data": {
      "text/html": [
       "<div>\n",
       "<style scoped>\n",
       "    .dataframe tbody tr th:only-of-type {\n",
       "        vertical-align: middle;\n",
       "    }\n",
       "\n",
       "    .dataframe tbody tr th {\n",
       "        vertical-align: top;\n",
       "    }\n",
       "\n",
       "    .dataframe thead th {\n",
       "        text-align: right;\n",
       "    }\n",
       "</style>\n",
       "<table border=\"1\" class=\"dataframe\">\n",
       "  <thead>\n",
       "    <tr style=\"text-align: right;\">\n",
       "      <th></th>\n",
       "      <th>count</th>\n",
       "      <th>unique</th>\n",
       "      <th>top</th>\n",
       "      <th>freq</th>\n",
       "    </tr>\n",
       "  </thead>\n",
       "  <tbody>\n",
       "    <tr>\n",
       "      <th>make_model</th>\n",
       "      <td>15915</td>\n",
       "      <td>9</td>\n",
       "      <td>Audi A3</td>\n",
       "      <td>3097</td>\n",
       "    </tr>\n",
       "    <tr>\n",
       "      <th>body_type</th>\n",
       "      <td>15915</td>\n",
       "      <td>8</td>\n",
       "      <td>Sedans</td>\n",
       "      <td>8004</td>\n",
       "    </tr>\n",
       "    <tr>\n",
       "      <th>vat</th>\n",
       "      <td>15915</td>\n",
       "      <td>2</td>\n",
       "      <td>VAT deductible</td>\n",
       "      <td>15044</td>\n",
       "    </tr>\n",
       "    <tr>\n",
       "      <th>Type</th>\n",
       "      <td>15915</td>\n",
       "      <td>5</td>\n",
       "      <td>Used</td>\n",
       "      <td>11095</td>\n",
       "    </tr>\n",
       "    <tr>\n",
       "      <th>Fuel</th>\n",
       "      <td>15915</td>\n",
       "      <td>4</td>\n",
       "      <td>Benzine</td>\n",
       "      <td>8548</td>\n",
       "    </tr>\n",
       "    <tr>\n",
       "      <th>Comfort_Convenience</th>\n",
       "      <td>15915</td>\n",
       "      <td>6196</td>\n",
       "      <td>Air conditioning,Electrical side mirrors,Hill ...</td>\n",
       "      <td>388</td>\n",
       "    </tr>\n",
       "    <tr>\n",
       "      <th>Entertainment_Media</th>\n",
       "      <td>15915</td>\n",
       "      <td>346</td>\n",
       "      <td>Bluetooth,Hands-free equipment,On-board comput...</td>\n",
       "      <td>1737</td>\n",
       "    </tr>\n",
       "    <tr>\n",
       "      <th>Extras</th>\n",
       "      <td>15915</td>\n",
       "      <td>659</td>\n",
       "      <td>Alloy wheels</td>\n",
       "      <td>5785</td>\n",
       "    </tr>\n",
       "    <tr>\n",
       "      <th>Safety_Security</th>\n",
       "      <td>15915</td>\n",
       "      <td>4442</td>\n",
       "      <td>ABS,Central door lock,Daytime running lights,D...</td>\n",
       "      <td>729</td>\n",
       "    </tr>\n",
       "    <tr>\n",
       "      <th>Paint_Type</th>\n",
       "      <td>15915</td>\n",
       "      <td>3</td>\n",
       "      <td>Metallic</td>\n",
       "      <td>15246</td>\n",
       "    </tr>\n",
       "    <tr>\n",
       "      <th>Upholstery_type</th>\n",
       "      <td>15915</td>\n",
       "      <td>2</td>\n",
       "      <td>Cloth</td>\n",
       "      <td>12234</td>\n",
       "    </tr>\n",
       "    <tr>\n",
       "      <th>Gearing_Type</th>\n",
       "      <td>15915</td>\n",
       "      <td>3</td>\n",
       "      <td>Manual</td>\n",
       "      <td>8149</td>\n",
       "    </tr>\n",
       "    <tr>\n",
       "      <th>Drive_chain</th>\n",
       "      <td>15915</td>\n",
       "      <td>3</td>\n",
       "      <td>front</td>\n",
       "      <td>15707</td>\n",
       "    </tr>\n",
       "  </tbody>\n",
       "</table>\n",
       "</div>"
      ],
      "text/plain": [
       "                     count unique  \\\n",
       "make_model           15915      9   \n",
       "body_type            15915      8   \n",
       "vat                  15915      2   \n",
       "Type                 15915      5   \n",
       "Fuel                 15915      4   \n",
       "Comfort_Convenience  15915   6196   \n",
       "Entertainment_Media  15915    346   \n",
       "Extras               15915    659   \n",
       "Safety_Security      15915   4442   \n",
       "Paint_Type           15915      3   \n",
       "Upholstery_type      15915      2   \n",
       "Gearing_Type         15915      3   \n",
       "Drive_chain          15915      3   \n",
       "\n",
       "                                                                   top   freq  \n",
       "make_model                                                     Audi A3   3097  \n",
       "body_type                                                       Sedans   8004  \n",
       "vat                                                     VAT deductible  15044  \n",
       "Type                                                              Used  11095  \n",
       "Fuel                                                           Benzine   8548  \n",
       "Comfort_Convenience  Air conditioning,Electrical side mirrors,Hill ...    388  \n",
       "Entertainment_Media  Bluetooth,Hands-free equipment,On-board comput...   1737  \n",
       "Extras                                                    Alloy wheels   5785  \n",
       "Safety_Security      ABS,Central door lock,Daytime running lights,D...    729  \n",
       "Paint_Type                                                    Metallic  15246  \n",
       "Upholstery_type                                                  Cloth  12234  \n",
       "Gearing_Type                                                    Manual   8149  \n",
       "Drive_chain                                                      front  15707  "
      ]
     },
     "execution_count": 10,
     "metadata": {},
     "output_type": "execute_result"
    }
   ],
   "source": [
    "df.describe(include=\"object\").T"
   ]
  },
  {
   "cell_type": "code",
   "execution_count": 12,
   "id": "84bce7d7",
   "metadata": {},
   "outputs": [
    {
     "data": {
      "text/html": [
       "<div>\n",
       "<style scoped>\n",
       "    .dataframe tbody tr th:only-of-type {\n",
       "        vertical-align: middle;\n",
       "    }\n",
       "\n",
       "    .dataframe tbody tr th {\n",
       "        vertical-align: top;\n",
       "    }\n",
       "\n",
       "    .dataframe thead th {\n",
       "        text-align: right;\n",
       "    }\n",
       "</style>\n",
       "<table border=\"1\" class=\"dataframe\">\n",
       "  <thead>\n",
       "    <tr style=\"text-align: right;\">\n",
       "      <th></th>\n",
       "      <th>make_model</th>\n",
       "      <th>body_type</th>\n",
       "      <th>vat</th>\n",
       "      <th>Type</th>\n",
       "      <th>Fuel</th>\n",
       "      <th>Comfort_Convenience</th>\n",
       "      <th>Entertainment_Media</th>\n",
       "      <th>Extras</th>\n",
       "      <th>Safety_Security</th>\n",
       "      <th>Paint_Type</th>\n",
       "      <th>Upholstery_type</th>\n",
       "      <th>Gearing_Type</th>\n",
       "      <th>Drive_chain</th>\n",
       "    </tr>\n",
       "  </thead>\n",
       "  <tbody>\n",
       "    <tr>\n",
       "      <th>0</th>\n",
       "      <td>Audi A1</td>\n",
       "      <td>Sedans</td>\n",
       "      <td>VAT deductible</td>\n",
       "      <td>Used</td>\n",
       "      <td>Diesel</td>\n",
       "      <td>Air conditioning,Armrest,Automatic climate con...</td>\n",
       "      <td>Bluetooth,Hands-free equipment,On-board comput...</td>\n",
       "      <td>Alloy wheels,Catalytic Converter,Voice Control</td>\n",
       "      <td>ABS,Central door lock,Daytime running lights,D...</td>\n",
       "      <td>Metallic</td>\n",
       "      <td>Cloth</td>\n",
       "      <td>Automatic</td>\n",
       "      <td>front</td>\n",
       "    </tr>\n",
       "    <tr>\n",
       "      <th>1</th>\n",
       "      <td>Audi A1</td>\n",
       "      <td>Sedans</td>\n",
       "      <td>Price negotiable</td>\n",
       "      <td>Used</td>\n",
       "      <td>Benzine</td>\n",
       "      <td>Air conditioning,Automatic climate control,Hil...</td>\n",
       "      <td>Bluetooth,Hands-free equipment,On-board comput...</td>\n",
       "      <td>Alloy wheels,Sport seats,Sport suspension,Voic...</td>\n",
       "      <td>ABS,Central door lock,Central door lock with r...</td>\n",
       "      <td>Metallic</td>\n",
       "      <td>Cloth</td>\n",
       "      <td>Automatic</td>\n",
       "      <td>front</td>\n",
       "    </tr>\n",
       "    <tr>\n",
       "      <th>2</th>\n",
       "      <td>Audi A1</td>\n",
       "      <td>Sedans</td>\n",
       "      <td>VAT deductible</td>\n",
       "      <td>Used</td>\n",
       "      <td>Diesel</td>\n",
       "      <td>Air conditioning,Cruise control,Electrical sid...</td>\n",
       "      <td>MP3,On-board computer</td>\n",
       "      <td>Alloy wheels,Voice Control</td>\n",
       "      <td>ABS,Central door lock,Daytime running lights,D...</td>\n",
       "      <td>Metallic</td>\n",
       "      <td>Cloth</td>\n",
       "      <td>Automatic</td>\n",
       "      <td>front</td>\n",
       "    </tr>\n",
       "    <tr>\n",
       "      <th>3</th>\n",
       "      <td>Audi A1</td>\n",
       "      <td>Sedans</td>\n",
       "      <td>VAT deductible</td>\n",
       "      <td>Used</td>\n",
       "      <td>Diesel</td>\n",
       "      <td>Air suspension,Armrest,Auxiliary heating,Elect...</td>\n",
       "      <td>Bluetooth,CD player,Hands-free equipment,MP3,O...</td>\n",
       "      <td>Alloy wheels,Sport seats,Voice Control</td>\n",
       "      <td>ABS,Alarm system,Central door lock with remote...</td>\n",
       "      <td>Metallic</td>\n",
       "      <td>Cloth</td>\n",
       "      <td>Automatic</td>\n",
       "      <td>front</td>\n",
       "    </tr>\n",
       "    <tr>\n",
       "      <th>4</th>\n",
       "      <td>Audi A1</td>\n",
       "      <td>Sedans</td>\n",
       "      <td>VAT deductible</td>\n",
       "      <td>Used</td>\n",
       "      <td>Diesel</td>\n",
       "      <td>Air conditioning,Armrest,Automatic climate con...</td>\n",
       "      <td>Bluetooth,CD player,Hands-free equipment,MP3,O...</td>\n",
       "      <td>Alloy wheels,Sport package,Sport suspension,Vo...</td>\n",
       "      <td>ABS,Central door lock,Driver-side airbag,Elect...</td>\n",
       "      <td>Metallic</td>\n",
       "      <td>Cloth</td>\n",
       "      <td>Automatic</td>\n",
       "      <td>front</td>\n",
       "    </tr>\n",
       "  </tbody>\n",
       "</table>\n",
       "</div>"
      ],
      "text/plain": [
       "  make_model body_type               vat  Type     Fuel  \\\n",
       "0    Audi A1    Sedans    VAT deductible  Used   Diesel   \n",
       "1    Audi A1    Sedans  Price negotiable  Used  Benzine   \n",
       "2    Audi A1    Sedans    VAT deductible  Used   Diesel   \n",
       "3    Audi A1    Sedans    VAT deductible  Used   Diesel   \n",
       "4    Audi A1    Sedans    VAT deductible  Used   Diesel   \n",
       "\n",
       "                                 Comfort_Convenience  \\\n",
       "0  Air conditioning,Armrest,Automatic climate con...   \n",
       "1  Air conditioning,Automatic climate control,Hil...   \n",
       "2  Air conditioning,Cruise control,Electrical sid...   \n",
       "3  Air suspension,Armrest,Auxiliary heating,Elect...   \n",
       "4  Air conditioning,Armrest,Automatic climate con...   \n",
       "\n",
       "                                 Entertainment_Media  \\\n",
       "0  Bluetooth,Hands-free equipment,On-board comput...   \n",
       "1  Bluetooth,Hands-free equipment,On-board comput...   \n",
       "2                              MP3,On-board computer   \n",
       "3  Bluetooth,CD player,Hands-free equipment,MP3,O...   \n",
       "4  Bluetooth,CD player,Hands-free equipment,MP3,O...   \n",
       "\n",
       "                                              Extras  \\\n",
       "0     Alloy wheels,Catalytic Converter,Voice Control   \n",
       "1  Alloy wheels,Sport seats,Sport suspension,Voic...   \n",
       "2                         Alloy wheels,Voice Control   \n",
       "3             Alloy wheels,Sport seats,Voice Control   \n",
       "4  Alloy wheels,Sport package,Sport suspension,Vo...   \n",
       "\n",
       "                                     Safety_Security Paint_Type  \\\n",
       "0  ABS,Central door lock,Daytime running lights,D...   Metallic   \n",
       "1  ABS,Central door lock,Central door lock with r...   Metallic   \n",
       "2  ABS,Central door lock,Daytime running lights,D...   Metallic   \n",
       "3  ABS,Alarm system,Central door lock with remote...   Metallic   \n",
       "4  ABS,Central door lock,Driver-side airbag,Elect...   Metallic   \n",
       "\n",
       "  Upholstery_type Gearing_Type Drive_chain  \n",
       "0           Cloth    Automatic       front  \n",
       "1           Cloth    Automatic       front  \n",
       "2           Cloth    Automatic       front  \n",
       "3           Cloth    Automatic       front  \n",
       "4           Cloth    Automatic       front  "
      ]
     },
     "execution_count": 12,
     "metadata": {},
     "output_type": "execute_result"
    }
   ],
   "source": [
    "df_object = df.select_dtypes(include =\"object\").head()\n",
    "df_object"
   ]
  },
  {
   "cell_type": "code",
   "execution_count": 13,
   "id": "a3e51a75",
   "metadata": {},
   "outputs": [
    {
     "name": "stdout",
     "output_type": "stream",
     "text": [
      "make_model                    : 9\n",
      "body_type                     : 8\n",
      "vat                           : 2\n",
      "Type                          : 5\n",
      "Fuel                          : 4\n",
      "Comfort_Convenience           : 6196\n",
      "Entertainment_Media           : 346\n",
      "Extras                        : 659\n",
      "Safety_Security               : 4442\n",
      "Paint_Type                    : 3\n",
      "Upholstery_type               : 2\n",
      "Gearing_Type                  : 3\n",
      "Drive_chain                   : 3\n"
     ]
    }
   ],
   "source": [
    "for col in df_object:\n",
    "    print(f\"{col:<30}:\", df[col].nunique())"
   ]
  },
  {
   "cell_type": "code",
   "execution_count": 14,
   "id": "c6b314ef",
   "metadata": {},
   "outputs": [
    {
     "name": "stdout",
     "output_type": "stream",
     "text": [
      "Number of Uniques:\n",
      "price              2952\n",
      "km                 6691\n",
      "Gears                 4\n",
      "age                   4\n",
      "Previous_Owners       5\n",
      "hp_kW                77\n",
      "Inspection_new        2\n",
      "Displacement_cc      68\n",
      "Weight_kg           432\n",
      "cons_comb            62\n",
      "dtype: int64\n",
      "\n"
     ]
    }
   ],
   "source": [
    "print(\"Number of Uniques:\\n\", df.select_dtypes('number').nunique(), '\\n', sep='')"
   ]
  },
  {
   "cell_type": "code",
   "execution_count": 15,
   "id": "45a3d95c",
   "metadata": {},
   "outputs": [
    {
     "data": {
      "image/png": "[encoded data removed]",
      "text/plain": [
       "<Figure size 700x400 with 2 Axes>"
      ]
     },
     "metadata": {},
     "output_type": "display_data"
    }
   ],
   "source": [
    "import seaborn as sns\n",
    "sns.heatmap(df.corr(), annot=True);"
   ]
  },
  {
   "cell_type": "code",
   "execution_count": 16,
   "id": "110cd895",
   "metadata": {},
   "outputs": [
    {
     "data": {
      "text/plain": [
       "Audi A3           3097\n",
       "Audi A1           2614\n",
       "Opel Insignia     2598\n",
       "Opel Astra        2525\n",
       "Opel Corsa        2216\n",
       "Renault Clio      1839\n",
       "Renault Espace     991\n",
       "Renault Duster      34\n",
       "Audi A2              1\n",
       "Name: make_model, dtype: int64"
      ]
     },
     "execution_count": 16,
     "metadata": {},
     "output_type": "execute_result"
    }
   ],
   "source": [
    "df.make_model.value_counts()"
   ]
  },
  {
   "cell_type": "code",
   "execution_count": 17,
   "id": "1cc16f50",
   "metadata": {},
   "outputs": [],
   "source": [
    "df.drop(index=[2614], inplace =True)"
   ]
  },
  {
   "cell_type": "code",
   "execution_count": 18,
   "id": "a6f0c189",
   "metadata": {},
   "outputs": [
    {
     "data": {
      "text/plain": [
       "array(['Audi A1', 'Audi A3', 'Opel Astra', 'Opel Corsa', 'Opel Insignia',\n",
       "       'Renault Clio', 'Renault Duster', 'Renault Espace'], dtype=object)"
      ]
     },
     "execution_count": 18,
     "metadata": {},
     "output_type": "execute_result"
    }
   ],
   "source": [
    "df.make_model.unique()"
   ]
  },
  {
   "cell_type": "code",
   "execution_count": 19,
   "id": "46e29d96",
   "metadata": {},
   "outputs": [
    {
     "data": {
      "text/plain": [
       "0        3\n",
       "1        4\n",
       "2        2\n",
       "3        3\n",
       "4        4\n",
       "        ..\n",
       "15910    2\n",
       "15911    3\n",
       "15912    1\n",
       "15913    2\n",
       "15914    2\n",
       "Name: Extras, Length: 15914, dtype: int64"
      ]
     },
     "execution_count": 19,
     "metadata": {},
     "output_type": "execute_result"
    }
   ],
   "source": [
    "df.Extras.apply(lambda x: len(x.split(',')))"
   ]
  },
  {
   "cell_type": "code",
   "execution_count": 20,
   "id": "908aa90c",
   "metadata": {},
   "outputs": [],
   "source": [
    "df[\"Extras\"] = df.Extras.apply(lambda x: len(x.split(',')))"
   ]
  },
  {
   "cell_type": "code",
   "execution_count": 21,
   "id": "3729200b",
   "metadata": {},
   "outputs": [
    {
     "data": {
      "text/plain": [
       "array([ 3,  4,  2,  1,  6,  5,  7,  8, 10,  9], dtype=int64)"
      ]
     },
     "execution_count": 21,
     "metadata": {},
     "output_type": "execute_result"
    }
   ],
   "source": [
    "df.Extras.unique()"
   ]
  },
  {
   "cell_type": "code",
   "execution_count": 22,
   "id": "561af167",
   "metadata": {},
   "outputs": [
    {
     "name": "stdout",
     "output_type": "stream",
     "text": [
      "make_model                    : ['Audi A1' 'Audi A3' 'Opel Astra' 'Opel Corsa' 'Opel Insignia'\n",
      " 'Renault Clio' 'Renault Duster' 'Renault Espace']\n",
      "body_type                     : ['Sedans' 'Station wagon' 'Compact' 'Coupe' 'Van' 'Convertible' 'Off-Road'\n",
      " 'Transporter']\n",
      "vat                           : ['VAT deductible' 'Price negotiable']\n",
      "Type                          : ['Used' \"Employee's car\" 'New' 'Demonstration' 'Pre-registered']\n",
      "Fuel                          : ['Diesel' 'Benzine' 'LPG/CNG' 'Electric']\n",
      "Comfort_Convenience           : ['Air conditioning,Armrest,Automatic climate control,Cruise control,Electrical side mirrors,Hill Holder,Leather steering wheel,Light sensor,Multi-function steering wheel,Navigation system,Park Distance Control,Parking assist system sensors rear,Power windows,Rain sensor,Seat heating,Start-stop system'\n",
      " 'Air conditioning,Automatic climate control,Hill Holder,Leather steering wheel,Lumbar support,Parking assist system sensors rear,Power windows,Start-stop system,Tinted windows'\n",
      " 'Air conditioning,Cruise control,Electrical side mirrors,Hill Holder,Leather steering wheel,Multi-function steering wheel,Navigation system,Park Distance Control,Parking assist system sensors front,Parking assist system sensors rear,Power windows,Seat heating,Start-stop system'\n",
      " ...\n",
      " 'Air conditioning,Armrest,Automatic climate control,Cruise control,Electrically adjustable seats,Electrically heated windshield,Electrical side mirrors,Electric tailgate,Heads-up display,Heated steering wheel,Hill Holder,Keyless central door lock,Leather steering wheel,Light sensor,Lumbar support,Multi-function steering wheel,Navigation system,Panorama roof,Park Distance Control,Parking assist system camera,Parking assist system sensors front,Parking assist system sensors rear,Power windows,Rain sensor,Seat heating,Start-stop system,Sunroof'\n",
      " 'Air conditioning,Armrest,Automatic climate control,Cruise control,Electrically adjustable seats,Electrically heated windshield,Electrical side mirrors,Electric tailgate,Heads-up display,Heated steering wheel,Keyless central door lock,Leather steering wheel,Light sensor,Lumbar support,Massage seats,Multi-function steering wheel,Navigation system,Panorama roof,Park Distance Control,Parking assist system camera,Parking assist system sensors front,Parking assist system sensors rear,Power windows,Rain sensor,Seat heating,Start-stop system'\n",
      " 'Air conditioning,Automatic climate control,Cruise control,Electrically heated windshield,Electrical side mirrors,Electric tailgate,Heads-up display,Heated steering wheel,Hill Holder,Keyless central door lock,Leather steering wheel,Light sensor,Lumbar support,Navigation system,Park Distance Control,Parking assist system camera,Parking assist system self-steering,Parking assist system sensors front,Parking assist system sensors rear,Power windows,Rain sensor,Seat heating,Sunroof']\n",
      "Entertainment_Media           : ['Bluetooth,Hands-free equipment,On-board computer,Radio'\n",
      " 'Bluetooth,Hands-free equipment,On-board computer,Radio,Sound system'\n",
      " 'MP3,On-board computer'\n",
      " 'Bluetooth,CD player,Hands-free equipment,MP3,On-board computer,Radio,Sound system,USB'\n",
      " 'Bluetooth,CD player,Hands-free equipment,MP3,On-board computer,Radio,USB'\n",
      " 'Bluetooth,Hands-free equipment,On-board computer,Radio,Sound system,USB'\n",
      " 'Bluetooth,CD player,Hands-free equipment,On-board computer,Radio,Sound system,USB'\n",
      " 'CD player,MP3,Radio' 'Radio'\n",
      " 'CD player,Hands-free equipment,On-board computer,Radio,USB'\n",
      " 'Bluetooth,On-board computer,Radio'\n",
      " 'Bluetooth,CD player,Hands-free equipment,On-board computer,Radio'\n",
      " 'Bluetooth,CD player,Hands-free equipment,MP3,On-board computer,Radio'\n",
      " 'Bluetooth,CD player,Digital radio,Hands-free equipment,MP3,On-board computer,Radio,USB'\n",
      " 'Radio,Sound system'\n",
      " 'Bluetooth,CD player,MP3,On-board computer,Radio,USB'\n",
      " 'On-board computer,Radio' 'CD player,MP3,Radio,Sound system,USB'\n",
      " 'Bluetooth,Hands-free equipment,MP3,On-board computer,Radio'\n",
      " 'CD player,MP3,On-board computer,Radio' 'Bluetooth,CD player' 'CD player'\n",
      " 'CD player,On-board computer,Radio'\n",
      " 'Bluetooth,CD player,On-board computer,Radio' 'MP3,Radio'\n",
      " 'Bluetooth,Hands-free equipment,On-board computer'\n",
      " 'Bluetooth,CD player,Hands-free equipment,On-board computer,Radio,USB'\n",
      " 'CD player,Hands-free equipment,On-board computer,Radio'\n",
      " 'Bluetooth,CD player,Digital radio,Hands-free equipment,MP3,On-board computer,Radio,Sound system,USB'\n",
      " 'Bluetooth,CD player,MP3,On-board computer'\n",
      " 'Bluetooth,Hands-free equipment,MP3,Radio'\n",
      " 'Bluetooth,CD player,Digital radio,MP3,On-board computer,Radio,USB'\n",
      " 'CD player,MP3,On-board computer,Radio,USB'\n",
      " 'Bluetooth,CD player,MP3,Radio,Sound system,USB' 'Bluetooth,Radio'\n",
      " 'Bluetooth,Hands-free equipment,On-board computer,Radio,USB'\n",
      " 'Bluetooth,CD player,MP3,On-board computer,Radio'\n",
      " 'MP3,On-board computer,Radio'\n",
      " 'Bluetooth,Hands-free equipment,Radio,Sound system,USB'\n",
      " 'Bluetooth,CD player,Hands-free equipment,MP3,On-board computer,Radio,Sound system'\n",
      " 'Bluetooth,MP3,On-board computer,USB'\n",
      " 'Bluetooth,Hands-free equipment,MP3,On-board computer,Radio,Sound system'\n",
      " 'Hands-free equipment,On-board computer,Radio,USB'\n",
      " 'Bluetooth,Hands-free equipment,MP3'\n",
      " 'Bluetooth,CD player,Hands-free equipment,MP3,Radio,USB'\n",
      " 'Bluetooth,CD player,Hands-free equipment,On-board computer'\n",
      " 'Bluetooth,Hands-free equipment,MP3,On-board computer,Radio,USB'\n",
      " 'Bluetooth,CD player,Hands-free equipment,Radio,Sound system'\n",
      " 'CD player,Hands-free equipment,MP3,On-board computer,Radio,Sound system'\n",
      " 'Bluetooth,CD player,Hands-free equipment,On-board computer,Radio,Sound system'\n",
      " 'CD player,On-board computer,Radio,Sound system'\n",
      " 'CD player,Hands-free equipment,On-board computer,Radio,Sound system'\n",
      " 'Bluetooth,CD player,MP3,On-board computer,Radio,Sound system'\n",
      " 'Bluetooth,CD player,Hands-free equipment,MP3,Radio'\n",
      " 'Bluetooth,CD player,Digital radio,Hands-free equipment,MP3,On-board computer,Radio'\n",
      " 'CD player,Hands-free equipment,Radio,USB'\n",
      " 'Bluetooth,MP3,On-board computer,Radio'\n",
      " 'CD player,MP3,On-board computer,Radio,Sound system'\n",
      " 'Bluetooth,MP3,On-board computer,Radio,Sound system,USB' 'Bluetooth,MP3'\n",
      " 'Hands-free equipment,MP3,On-board computer,Radio,Sound system,USB'\n",
      " 'Bluetooth,Hands-free equipment,MP3,On-board computer,Radio,Sound system,USB'\n",
      " 'Bluetooth,Hands-free equipment,On-board computer,USB' 'CD player,Radio'\n",
      " 'CD player,On-board computer' 'Bluetooth,Hands-free equipment,Radio'\n",
      " 'On-board computer'\n",
      " 'Bluetooth,CD player,Digital radio,On-board computer,Radio,USB'\n",
      " 'Bluetooth,CD player,Digital radio,Hands-free equipment,On-board computer'\n",
      " 'Bluetooth,CD player,MP3,On-board computer,Radio,Sound system,USB'\n",
      " 'Bluetooth,CD player,Digital radio,Hands-free equipment,On-board computer,Radio,Sound system,USB'\n",
      " 'CD player,Hands-free equipment,MP3,On-board computer,Radio'\n",
      " 'Bluetooth,CD player,Hands-free equipment,Radio'\n",
      " 'CD player,MP3,On-board computer,Radio,Sound system,USB'\n",
      " 'CD player,Hands-free equipment,On-board computer,Sound system,USB'\n",
      " 'Bluetooth,CD player,Radio'\n",
      " 'Bluetooth,CD player,MP3,On-board computer,USB'\n",
      " 'Bluetooth,Radio,Sound system' 'CD player,Hands-free equipment'\n",
      " 'Bluetooth,USB'\n",
      " 'Bluetooth,CD player,Hands-free equipment,MP3,Radio,Sound system'\n",
      " 'Bluetooth,CD player,On-board computer'\n",
      " 'Bluetooth,CD player,Digital radio,Hands-free equipment,On-board computer,Radio'\n",
      " 'Bluetooth,CD player,Hands-free equipment,On-board computer,Sound system,USB'\n",
      " 'CD player,MP3,On-board computer' 'Bluetooth'\n",
      " 'Bluetooth,CD player,On-board computer,Radio,USB'\n",
      " 'CD player,Hands-free equipment,MP3,On-board computer,Radio,USB'\n",
      " 'Bluetooth,CD player,Digital radio,Hands-free equipment,MP3,Radio,Sound system,USB'\n",
      " 'Hands-free equipment,MP3,On-board computer,Radio,USB'\n",
      " 'Bluetooth,CD player,Digital radio,Hands-free equipment,MP3,On-board computer,USB'\n",
      " 'Bluetooth,Hands-free equipment,On-board computer,Sound system'\n",
      " 'CD player,Digital radio,Hands-free equipment,MP3,Radio'\n",
      " 'Bluetooth,CD player,Digital radio,Hands-free equipment,Radio,USB'\n",
      " 'Bluetooth,Hands-free equipment,Radio,Sound system'\n",
      " 'CD player,Radio,Sound system' 'Bluetooth,CD player,Hands-free equipment'\n",
      " 'Bluetooth,CD player,Hands-free equipment,MP3,On-board computer,Sound system'\n",
      " 'On-board computer,Radio,USB' 'Hands-free equipment'\n",
      " 'Bluetooth,Digital radio,Hands-free equipment,On-board computer,Radio,Sound system,USB'\n",
      " 'Bluetooth,Digital radio,Hands-free equipment,On-board computer,Radio,USB'\n",
      " 'Bluetooth,CD player,Digital radio,MP3,Radio,USB'\n",
      " 'Bluetooth,Digital radio,On-board computer,Radio'\n",
      " 'Bluetooth,CD player,Digital radio,Hands-free equipment,MP3,On-board computer,Radio,Sound system'\n",
      " 'Bluetooth,CD player,Digital radio,MP3,On-board computer,Radio,Sound system,USB'\n",
      " 'Bluetooth,On-board computer'\n",
      " 'Bluetooth,Digital radio,Hands-free equipment,MP3,On-board computer,Radio,Sound system,USB'\n",
      " 'Hands-free equipment,On-board computer,Radio'\n",
      " 'Bluetooth,CD player,Radio,Sound system'\n",
      " 'Bluetooth,Digital radio,Hands-free equipment,MP3,Radio'\n",
      " 'Bluetooth,CD player,Hands-free equipment,On-board computer,Sound system'\n",
      " 'Bluetooth,Digital radio,MP3,On-board computer,Radio,USB'\n",
      " 'Bluetooth,Hands-free equipment,Radio,USB'\n",
      " 'Bluetooth,CD player,Hands-free equipment,MP3,Radio,Sound system,USB'\n",
      " 'MP3,On-board computer,Radio,USB'\n",
      " 'Bluetooth,Digital radio,Hands-free equipment,MP3,On-board computer,Sound system'\n",
      " 'Hands-free equipment,On-board computer,Sound system'\n",
      " 'Hands-free equipment,Radio'\n",
      " 'Bluetooth,Digital radio,Hands-free equipment,MP3,On-board computer,Radio'\n",
      " 'Bluetooth,MP3,On-board computer,Radio,USB'\n",
      " 'Bluetooth,Radio,Sound system,USB'\n",
      " 'Bluetooth,CD player,Digital radio,MP3,On-board computer,Radio'\n",
      " 'Bluetooth,CD player,MP3,Radio'\n",
      " 'Bluetooth,Hands-free equipment,MP3,On-board computer'\n",
      " 'Bluetooth,CD player,Digital radio,Hands-free equipment,MP3,Radio,USB'\n",
      " 'CD player,Digital radio,MP3,On-board computer,Radio'\n",
      " 'Digital radio,MP3,Radio'\n",
      " 'CD player,Digital radio,On-board computer,Radio,USB'\n",
      " 'CD player,Digital radio,Hands-free equipment,On-board computer,Radio,USB'\n",
      " 'Bluetooth,Hands-free equipment,MP3,Radio,USB'\n",
      " 'Bluetooth,CD player,Hands-free equipment,MP3,On-board computer,USB'\n",
      " 'Bluetooth,CD player,Digital radio,Hands-free equipment,MP3,Radio'\n",
      " 'Bluetooth,Digital radio,Hands-free equipment,MP3,On-board computer,Radio,Sound system'\n",
      " 'CD player,Hands-free equipment,MP3,On-board computer,Radio,Sound system,USB'\n",
      " 'CD player,Digital radio,MP3,On-board computer,Radio,Sound system,USB'\n",
      " 'Bluetooth,CD player,Hands-free equipment,MP3,On-board computer'\n",
      " 'Bluetooth,Hands-free equipment,MP3,On-board computer,Sound system'\n",
      " 'CD player,Digital radio,MP3'\n",
      " 'Hands-free equipment,On-board computer,Radio,Sound system'\n",
      " 'Bluetooth,CD player,Digital radio,MP3,On-board computer,USB'\n",
      " 'Bluetooth,Hands-free equipment,MP3,On-board computer,USB'\n",
      " 'CD player,Digital radio,Hands-free equipment,On-board computer,Radio'\n",
      " 'Bluetooth,CD player,On-board computer,Radio,Sound system'\n",
      " 'Bluetooth,Hands-free equipment,MP3,Radio,Sound system'\n",
      " 'Bluetooth,CD player,Digital radio,Hands-free equipment,On-board computer,Radio,USB'\n",
      " 'Bluetooth,Hands-free equipment,MP3,Sound system,USB'\n",
      " 'Bluetooth,Radio,USB'\n",
      " 'Bluetooth,CD player,On-board computer,Radio,Sound system,USB'\n",
      " 'Sound system' 'CD player,Hands-free equipment,Radio,Sound system'\n",
      " 'Bluetooth,Hands-free equipment,Sound system,USB'\n",
      " 'MP3,On-board computer,USB' 'Bluetooth,MP3,Radio,USB'\n",
      " 'Bluetooth,CD player,Hands-free equipment,Radio,USB'\n",
      " 'Bluetooth,Digital radio,Hands-free equipment,MP3,On-board computer,Radio,USB'\n",
      " 'MP3,USB' 'Bluetooth,Hands-free equipment'\n",
      " 'Bluetooth,Hands-free equipment,On-board computer,Sound system,USB'\n",
      " 'Bluetooth,Digital radio,Hands-free equipment,Sound system'\n",
      " 'Digital radio,On-board computer,Radio,USB'\n",
      " 'Bluetooth,CD player,Hands-free equipment,Sound system,USB'\n",
      " 'Hands-free equipment,Sound system'\n",
      " 'Hands-free equipment,MP3,On-board computer,USB'\n",
      " 'Bluetooth,Digital radio,Hands-free equipment,On-board computer,Radio,Sound system'\n",
      " 'Bluetooth,Hands-free equipment,MP3,USB'\n",
      " 'Bluetooth,Digital radio,Hands-free equipment,On-board computer,Sound system'\n",
      " 'Bluetooth,Digital radio,Hands-free equipment,MP3,Radio,USB'\n",
      " 'Bluetooth,Hands-free equipment,MP3,On-board computer,Sound system,USB'\n",
      " 'Bluetooth,Digital radio,Hands-free equipment,On-board computer,Radio,Sound system,Television,USB'\n",
      " 'CD player,On-board computer,Radio,USB'\n",
      " 'Bluetooth,Digital radio,On-board computer,USB'\n",
      " 'Bluetooth,Digital radio,Hands-free equipment,MP3,On-board computer,Sound system,USB'\n",
      " 'Digital radio,Hands-free equipment,On-board computer,Radio,USB'\n",
      " 'Digital radio,Hands-free equipment,MP3,On-board computer,Radio,USB'\n",
      " 'Bluetooth,Digital radio,Hands-free equipment,On-board computer,USB'\n",
      " 'Bluetooth,Digital radio' 'Bluetooth,MP3,Radio'\n",
      " 'Bluetooth,Digital radio,MP3,On-board computer,Radio'\n",
      " 'CD player,Hands-free equipment,Radio'\n",
      " 'Bluetooth,On-board computer,Radio,Sound system,USB'\n",
      " 'Bluetooth,Digital radio,Hands-free equipment,MP3,On-board computer,USB'\n",
      " 'Bluetooth,CD player,Radio,USB'\n",
      " 'Hands-free equipment,On-board computer,Sound system,USB'\n",
      " 'Bluetooth,Digital radio,Hands-free equipment'\n",
      " 'Bluetooth,Digital radio,Hands-free equipment,Sound system,USB'\n",
      " 'Bluetooth,CD player,Digital radio,Hands-free equipment,MP3,On-board computer,Sound system,USB'\n",
      " 'On-board computer,Sound system'\n",
      " 'Bluetooth,Hands-free equipment,Sound system' 'CD player,Radio,USB'\n",
      " 'CD player,Radio,Sound system,USB'\n",
      " 'Bluetooth,Digital radio,On-board computer,Radio,USB'\n",
      " 'Bluetooth,Hands-free equipment,USB' 'Bluetooth,MP3,On-board computer'\n",
      " 'Bluetooth,On-board computer,Radio,Sound system'\n",
      " 'On-board computer,Radio,Sound system'\n",
      " 'Bluetooth,CD player,Digital radio,On-board computer,USB'\n",
      " 'CD player,On-board computer,Radio,Sound system,USB'\n",
      " 'Bluetooth,On-board computer,USB' 'Bluetooth,On-board computer,Radio,USB'\n",
      " 'Bluetooth,Digital radio,Hands-free equipment,On-board computer,Radio'\n",
      " 'Bluetooth,CD player,Digital radio,Hands-free equipment,MP3,On-board computer,Radio,Sound system,Television,USB'\n",
      " 'Bluetooth,MP3,On-board computer,Radio,Television,USB'\n",
      " 'Bluetooth,CD player,Digital radio,Hands-free equipment,On-board computer,USB'\n",
      " 'CD player,MP3,On-board computer,USB' 'CD player,MP3,Radio,USB'\n",
      " 'Bluetooth,Hands-free equipment,MP3,Radio,Sound system,USB'\n",
      " 'Bluetooth,MP3,Radio,Sound system'\n",
      " 'Bluetooth,CD player,Hands-free equipment,On-board computer,USB'\n",
      " 'CD player,Hands-free equipment,On-board computer'\n",
      " 'Bluetooth,CD player,On-board computer,Sound system' 'CD player,MP3'\n",
      " 'CD player,On-board computer,USB'\n",
      " 'Bluetooth,Digital radio,On-board computer,Radio,Sound system'\n",
      " 'Bluetooth,MP3,On-board computer,Radio,Sound system'\n",
      " 'Bluetooth,CD player,Digital radio,MP3,On-board computer,Radio,Sound system'\n",
      " 'Bluetooth,CD player,Digital radio,Hands-free equipment,On-board computer,Radio,Sound system'\n",
      " 'Bluetooth,CD player,Digital radio,Hands-free equipment'\n",
      " 'CD player,Hands-free equipment,On-board computer,USB'\n",
      " 'Bluetooth,CD player,MP3,Radio,Sound system'\n",
      " 'Digital radio,On-board computer,Radio'\n",
      " 'Bluetooth,CD player,Hands-free equipment,USB'\n",
      " 'Bluetooth,Digital radio,On-board computer'\n",
      " 'CD player,Digital radio,On-board computer,USB'\n",
      " 'Bluetooth,CD player,Digital radio,Radio,Sound system,USB'\n",
      " 'Bluetooth,CD player,Hands-free equipment,MP3,On-board computer,Radio,Sound system,Television,USB'\n",
      " 'CD player,Hands-free equipment,MP3,Radio'\n",
      " 'Bluetooth,CD player,Digital radio,MP3,Radio,Sound system,USB'\n",
      " 'Bluetooth,Digital radio,MP3,On-board computer,USB'\n",
      " 'CD player,On-board computer,Sound system'\n",
      " 'Bluetooth,CD player,MP3,Radio,USB'\n",
      " 'Bluetooth,CD player,On-board computer,USB'\n",
      " 'Bluetooth,CD player,Digital radio,On-board computer,Radio'\n",
      " 'Hands-free equipment,On-board computer,Radio,Sound system,USB'\n",
      " 'CD player,Hands-free equipment,Radio,Sound system,USB'\n",
      " 'Bluetooth,CD player,Hands-free equipment,Radio,Sound system,USB' 'USB'\n",
      " 'Bluetooth,Digital radio,Hands-free equipment,USB'\n",
      " 'CD player,Digital radio,MP3,On-board computer,Radio,USB'\n",
      " 'Hands-free equipment,On-board computer'\n",
      " 'Bluetooth,CD player,Digital radio,Hands-free equipment,Radio,Sound system,USB'\n",
      " 'CD player,Hands-free equipment,On-board computer,Sound system'\n",
      " 'Bluetooth,Digital radio,MP3,On-board computer,Radio,Sound system,USB'\n",
      " 'Hands-free equipment,Radio,USB'\n",
      " 'CD player,Hands-free equipment,On-board computer,Radio,Sound system,USB'\n",
      " 'Bluetooth,Digital radio,Hands-free equipment,MP3,Radio,Sound system,USB'\n",
      " 'MP3,Radio,Sound system'\n",
      " 'Bluetooth,CD player,Hands-free equipment,MP3,On-board computer,Sound system,USB'\n",
      " 'Bluetooth,Sound system'\n",
      " 'Bluetooth,Digital radio,Hands-free equipment,Radio'\n",
      " 'CD player,Digital radio,Hands-free equipment,Radio,USB'\n",
      " 'On-board computer,USB'\n",
      " 'Digital radio,Hands-free equipment,On-board computer,Radio'\n",
      " 'Bluetooth,Digital radio,On-board computer,Radio,Television,USB'\n",
      " 'Digital radio,Hands-free equipment,MP3,On-board computer,Radio'\n",
      " 'Bluetooth,Digital radio,Radio' 'Bluetooth,CD player,Digital radio,Radio'\n",
      " 'Bluetooth,CD player,MP3,USB'\n",
      " 'Bluetooth,Digital radio,On-board computer,Radio,Sound system,USB'\n",
      " 'Bluetooth,CD player,Hands-free equipment,On-board computer,Radio,Sound system,Television,USB'\n",
      " 'CD player,Digital radio,Hands-free equipment,MP3,On-board computer,Radio'\n",
      " 'Hands-free equipment,On-board computer,USB'\n",
      " 'Bluetooth,Digital radio,Hands-free equipment,On-board computer,Radio,Television,USB'\n",
      " 'Bluetooth,Digital radio,Hands-free equipment,Radio,USB'\n",
      " 'Bluetooth,On-board computer,Sound system,USB'\n",
      " 'Digital radio,MP3,On-board computer,Radio,USB'\n",
      " 'Digital radio,Hands-free equipment,MP3,On-board computer,USB'\n",
      " 'Digital radio,On-board computer'\n",
      " 'CD player,Digital radio,On-board computer,Radio'\n",
      " 'Bluetooth,CD player,Digital radio,On-board computer'\n",
      " 'Bluetooth,CD player,USB'\n",
      " 'Digital radio,Hands-free equipment,On-board computer,USB'\n",
      " 'Bluetooth,CD player,Digital radio,MP3,On-board computer,Radio,Television,USB'\n",
      " 'Radio,USB' 'Bluetooth,CD player,Digital radio,Radio,USB'\n",
      " 'Bluetooth,MP3,USB' 'MP3,On-board computer,Radio,Sound system'\n",
      " 'CD player,USB' 'Bluetooth,CD player,Radio,Sound system,USB'\n",
      " 'Bluetooth,CD player,MP3'\n",
      " 'Bluetooth,Hands-free equipment,MP3,On-board computer,Radio,Television,USB'\n",
      " 'On-board computer,Radio,Sound system,USB'\n",
      " 'Bluetooth,CD player,Hands-free equipment,MP3,USB'\n",
      " 'CD player,Digital radio,Radio' 'Bluetooth,Sound system,USB'\n",
      " 'Hands-free equipment,MP3,On-board computer,Radio'\n",
      " 'Bluetooth,MP3,On-board computer,Sound system,USB'\n",
      " 'MP3,On-board computer,Radio,Sound system,USB' 'MP3'\n",
      " 'Digital radio,Radio' 'Bluetooth,MP3,Radio,Sound system,USB'\n",
      " 'MP3,Radio,Sound system,USB'\n",
      " 'CD player,Hands-free equipment,MP3,Radio,USB'\n",
      " 'Bluetooth,CD player,Digital radio,Hands-free equipment,Radio'\n",
      " 'Bluetooth,CD player,Digital radio,On-board computer,Radio,Sound system,USB'\n",
      " 'CD player,MP3,USB'\n",
      " 'Bluetooth,CD player,Digital radio,Hands-free equipment,MP3,On-board computer,Sound system,Television,USB'\n",
      " 'Bluetooth,Digital radio,Hands-free equipment,On-board computer'\n",
      " 'CD player,Hands-free equipment,MP3,On-board computer'\n",
      " 'CD player,Hands-free equipment,MP3,On-board computer,USB'\n",
      " 'Bluetooth,Digital radio,Hands-free equipment,MP3,On-board computer,Sound system,Television,USB'\n",
      " 'Hands-free equipment,MP3,Radio,USB' 'Hands-free equipment,USB'\n",
      " 'Bluetooth,Digital radio,Hands-free equipment,On-board computer,Sound system,USB'\n",
      " 'Digital radio,Hands-free equipment,MP3,On-board computer,Radio,Sound system,USB'\n",
      " 'Digital radio,Radio,USB' 'Digital radio,MP3,On-board computer,Radio'\n",
      " 'Digital radio,Hands-free equipment' 'Digital radio'\n",
      " 'Radio,Sound system,USB'\n",
      " 'Bluetooth,Digital radio,Hands-free equipment,Radio,Sound system,USB'\n",
      " 'Bluetooth,Digital radio,MP3,On-board computer,Radio,Sound system'\n",
      " 'Digital radio,On-board computer,USB'\n",
      " 'Bluetooth,Digital radio,Radio,Sound system,USB'\n",
      " 'Bluetooth,Digital radio,Radio,USB'\n",
      " 'Bluetooth,CD player,Digital radio,Hands-free equipment,USB'\n",
      " 'Hands-free equipment,MP3,On-board computer,Sound system,USB'\n",
      " 'Bluetooth,Digital radio,USB'\n",
      " 'Hands-free equipment,MP3,On-board computer' 'Sound system,USB'\n",
      " 'Bluetooth,Digital radio,On-board computer,Sound system,USB'\n",
      " 'Bluetooth,Digital radio,Hands-free equipment,MP3,Sound system,USB'\n",
      " 'Bluetooth,Digital radio,On-board computer,Sound system'\n",
      " 'Bluetooth,Digital radio,Hands-free equipment,MP3,On-board computer,Radio,Sound system,Television,USB'\n",
      " 'Bluetooth,CD player,Hands-free equipment,On-board computer,Sound system,Television,USB'\n",
      " 'Bluetooth,Digital radio,Hands-free equipment,Radio,Sound system,Television,USB'\n",
      " 'Digital radio,Sound system,USB'\n",
      " 'Bluetooth,Digital radio,Hands-free equipment,MP3,On-board computer,Radio,Television,USB'\n",
      " 'Bluetooth,CD player,On-board computer,Sound system,USB'\n",
      " 'On-board computer,Sound system,USB' 'Bluetooth,Digital radio,MP3,Radio'\n",
      " 'Bluetooth,CD player,Digital radio,Hands-free equipment,MP3,USB'\n",
      " 'Hands-free equipment,MP3,Radio,Sound system,USB'\n",
      " 'Bluetooth,CD player,Hands-free equipment,On-board computer,Radio,Television,USB'\n",
      " 'Bluetooth,Digital radio,MP3,Sound system,USB'\n",
      " 'Bluetooth,Digital radio,MP3,On-board computer,Sound system,USB'\n",
      " 'Digital radio,Sound system' 'MP3,Radio,USB'\n",
      " 'CD player,Hands-free equipment,On-board computer,Radio,Sound system,Television'\n",
      " 'Bluetooth,Digital radio,MP3,Radio,USB'\n",
      " 'Digital radio,Hands-free equipment,On-board computer,Radio,Sound system'\n",
      " 'Digital radio,USB' 'Digital radio,Hands-free equipment,Radio'\n",
      " 'CD player,Digital radio,Hands-free equipment,On-board computer,Radio,Sound system,Television,USB'\n",
      " 'Digital radio,MP3,On-board computer,Radio,Sound system,USB'\n",
      " 'Digital radio,On-board computer,Sound system']\n",
      "Safety_Security               : ['ABS,Central door lock,Daytime running lights,Driver-side airbag,Electronic stability control,Fog lights,Immobilizer,Isofix,Passenger-side airbag,Power steering,Side airbag,Tire pressure monitoring system,Traction control,Xenon headlights'\n",
      " 'ABS,Central door lock,Central door lock with remote control,Daytime running lights,Driver-side airbag,Electronic stability control,Head airbag,Immobilizer,Isofix,Passenger-side airbag,Power steering,Side airbag,Tire pressure monitoring system,Traction control,Xenon headlights'\n",
      " 'ABS,Central door lock,Daytime running lights,Driver-side airbag,Electronic stability control,Immobilizer,Isofix,Passenger-side airbag,Power steering,Side airbag,Tire pressure monitoring system,Traction control'\n",
      " ...\n",
      " 'ABS,Blind spot monitor,Central door lock,Daytime running lights,Driver-side airbag,Electronic stability control,Emergency brake assistant,Fog lights,Immobilizer,Lane departure warning system,LED Daytime Running Lights,LED Headlights,Passenger-side airbag,Power steering,Side airbag,Tire pressure monitoring system,Traction control,Traffic sign recognition'\n",
      " 'ABS,Adaptive headlights,Central door lock,Daytime running lights,Electronic stability control,Fog lights,Power steering,Traction control'\n",
      " 'ABS,Adaptive Cruise Control,Central door lock,Daytime running lights,Driver-side airbag,Electronic stability control,Emergency brake assistant,Fog lights,Immobilizer,Isofix,Lane departure warning system,LED Daytime Running Lights,LED Headlights,Passenger-side airbag,Power steering,Side airbag,Tire pressure monitoring system,Traffic sign recognition']\n",
      "Paint_Type                    : ['Metallic' 'Uni/basic' 'Perl effect']\n",
      "Upholstery_type               : ['Cloth' 'Part/Full Leather']\n",
      "Gearing_Type                  : ['Automatic' 'Manual' 'Semi-automatic']\n",
      "Drive_chain                   : ['front' '4WD' 'rear']\n"
     ]
    }
   ],
   "source": [
    "for i in df.select_dtypes(\"object\"):\n",
    "    print(f\"{i:<30}:\", df[i].unique())"
   ]
  },
  {
   "cell_type": "code",
   "execution_count": 24,
   "id": "edfef247",
   "metadata": {},
   "outputs": [],
   "source": [
    "feature_imp=[\"age\", \"hp_kW\", \"km\", \"Gearing_Type\", 'make_model']"
   ]
  },
  {
   "cell_type": "code",
   "execution_count": 25,
   "id": "fac19c2a",
   "metadata": {},
   "outputs": [],
   "source": [
    "X=df[feature_imp]\n",
    "y=df['price']"
   ]
  },
  {
   "cell_type": "code",
   "execution_count": 26,
   "id": "38ff59a9",
   "metadata": {},
   "outputs": [],
   "source": [
    "X_train, X_test, y_train, y_test = train_test_split(X, y, test_size = 0.2, random_state = 0)"
   ]
  },
  {
   "cell_type": "code",
   "execution_count": 27,
   "id": "938f7376",
   "metadata": {},
   "outputs": [
    {
     "data": {
      "text/plain": [
       "Index(['Gearing_Type', 'make_model'], dtype='object')"
      ]
     },
     "execution_count": 27,
     "metadata": {},
     "output_type": "execute_result"
    }
   ],
   "source": [
    "cat = X_train.select_dtypes(\"object\").columns\n",
    "cat"
   ]
  },
  {
   "cell_type": "code",
   "execution_count": 28,
   "id": "d8ce3d4a",
   "metadata": {},
   "outputs": [],
   "source": [
    "from sklearn.compose import make_column_transformer\n",
    "from sklearn.preprocessing import OrdinalEncoder"
   ]
  },
  {
   "cell_type": "code",
   "execution_count": 31,
   "id": "6b2efe0e",
   "metadata": {},
   "outputs": [],
   "source": [
    "ord_enc = OrdinalEncoder()\n",
    "column_trans = make_column_transformer((ord_enc, cat), remainder='passthrough')"
   ]
  },
  {
   "cell_type": "code",
   "execution_count": 32,
   "id": "fb07d358",
   "metadata": {},
   "outputs": [
    {
     "data": {
      "text/html": [
       "<div>\n",
       "<style scoped>\n",
       "    .dataframe tbody tr th:only-of-type {\n",
       "        vertical-align: middle;\n",
       "    }\n",
       "\n",
       "    .dataframe tbody tr th {\n",
       "        vertical-align: top;\n",
       "    }\n",
       "\n",
       "    .dataframe thead th {\n",
       "        text-align: right;\n",
       "    }\n",
       "</style>\n",
       "<table border=\"1\" class=\"dataframe\">\n",
       "  <thead>\n",
       "    <tr style=\"text-align: right;\">\n",
       "      <th></th>\n",
       "      <th>age</th>\n",
       "      <th>hp_kW</th>\n",
       "      <th>km</th>\n",
       "      <th>Gearing_Type</th>\n",
       "      <th>make_model</th>\n",
       "    </tr>\n",
       "  </thead>\n",
       "  <tbody>\n",
       "    <tr>\n",
       "      <th>9375</th>\n",
       "      <td>2.0</td>\n",
       "      <td>66.0</td>\n",
       "      <td>42,619.0</td>\n",
       "      <td>Manual</td>\n",
       "      <td>Opel Corsa</td>\n",
       "    </tr>\n",
       "    <tr>\n",
       "      <th>538</th>\n",
       "      <td>3.0</td>\n",
       "      <td>70.0</td>\n",
       "      <td>31,284.0</td>\n",
       "      <td>Manual</td>\n",
       "      <td>Audi A1</td>\n",
       "    </tr>\n",
       "    <tr>\n",
       "      <th>7264</th>\n",
       "      <td>1.0</td>\n",
       "      <td>110.0</td>\n",
       "      <td>25,204.0</td>\n",
       "      <td>Manual</td>\n",
       "      <td>Opel Astra</td>\n",
       "    </tr>\n",
       "  </tbody>\n",
       "</table>\n",
       "</div>"
      ],
      "text/plain": [
       "      age  hp_kW       km Gearing_Type  make_model\n",
       "9375  2.0   66.0 42,619.0       Manual  Opel Corsa\n",
       "538   3.0   70.0 31,284.0       Manual     Audi A1\n",
       "7264  1.0  110.0 25,204.0       Manual  Opel Astra"
      ]
     },
     "execution_count": 32,
     "metadata": {},
     "output_type": "execute_result"
    }
   ],
   "source": [
    "X_train.sample(3)"
   ]
  },
  {
   "cell_type": "code",
   "execution_count": 33,
   "id": "22c54f64",
   "metadata": {},
   "outputs": [],
   "source": [
    "X_train=column_trans.fit_transform(X_train)"
   ]
  },
  {
   "cell_type": "code",
   "execution_count": 34,
   "id": "4f2121c4",
   "metadata": {},
   "outputs": [],
   "source": [
    "X_test=column_trans.transform(X_test)"
   ]
  },
  {
   "cell_type": "code",
   "execution_count": 37,
   "id": "a6db8f89",
   "metadata": {},
   "outputs": [
    {
     "data": {
      "text/plain": [
       "array([[1.00e+00, 5.00e+00, 0.00e+00, 5.60e+01, 1.00e+01],\n",
       "       [1.00e+00, 2.00e+00, 3.00e+00, 8.10e+01, 1.39e+05],\n",
       "       [0.00e+00, 1.00e+00, 0.00e+00, 8.50e+01, 1.80e+04],\n",
       "       ...,\n",
       "       [0.00e+00, 3.00e+00, 0.00e+00, 6.60e+01, 3.55e+02],\n",
       "       [0.00e+00, 4.00e+00, 3.00e+00, 1.25e+02, 2.32e+05],\n",
       "       [0.00e+00, 1.00e+00, 3.00e+00, 8.10e+01, 9.70e+04]])"
      ]
     },
     "execution_count": 37,
     "metadata": {},
     "output_type": "execute_result"
    }
   ],
   "source": [
    "X_train"
   ]
  },
  {
   "cell_type": "markdown",
   "id": "07c4eda6",
   "metadata": {},
   "source": [
    "# Random Forest"
   ]
  },
  {
   "cell_type": "code",
   "execution_count": 68,
   "id": "57761459",
   "metadata": {},
   "outputs": [
    {
     "data": {
      "text/html": [
       "<style>#sk-container-id-4 {color: black;background-color: white;}#sk-container-id-4 pre{padding: 0;}#sk-container-id-4 div.sk-toggleable {background-color: white;}#sk-container-id-4 label.sk-toggleable__label {cursor: pointer;display: block;width: 100%;margin-bottom: 0;padding: 0.3em;box-sizing: border-box;text-align: center;}#sk-container-id-4 label.sk-toggleable__label-arrow:before {content: \"▸\";float: left;margin-right: 0.25em;color: #696969;}#sk-container-id-4 label.sk-toggleable__label-arrow:hover:before {color: black;}#sk-container-id-4 div.sk-estimator:hover label.sk-toggleable__label-arrow:before {color: black;}#sk-container-id-4 div.sk-toggleable__content {max-height: 0;max-width: 0;overflow: hidden;text-align: left;background-color: #f0f8ff;}#sk-container-id-4 div.sk-toggleable__content pre {margin: 0.2em;color: black;border-radius: 0.25em;background-color: #f0f8ff;}#sk-container-id-4 input.sk-toggleable__control:checked~div.sk-toggleable__content {max-height: 200px;max-width: 100%;overflow: auto;}#sk-container-id-4 input.sk-toggleable__control:checked~label.sk-toggleable__label-arrow:before {content: \"▾\";}#sk-container-id-4 div.sk-estimator input.sk-toggleable__control:checked~label.sk-toggleable__label {background-color: #d4ebff;}#sk-container-id-4 div.sk-label input.sk-toggleable__control:checked~label.sk-toggleable__label {background-color: #d4ebff;}#sk-container-id-4 input.sk-hidden--visually {border: 0;clip: rect(1px 1px 1px 1px);clip: rect(1px, 1px, 1px, 1px);height: 1px;margin: -1px;overflow: hidden;padding: 0;position: absolute;width: 1px;}#sk-container-id-4 div.sk-estimator {font-family: monospace;background-color: #f0f8ff;border: 1px dotted black;border-radius: 0.25em;box-sizing: border-box;margin-bottom: 0.5em;}#sk-container-id-4 div.sk-estimator:hover {background-color: #d4ebff;}#sk-container-id-4 div.sk-parallel-item::after {content: \"\";width: 100%;border-bottom: 1px solid gray;flex-grow: 1;}#sk-container-id-4 div.sk-label:hover label.sk-toggleable__label {background-color: #d4ebff;}#sk-container-id-4 div.sk-serial::before {content: \"\";position: absolute;border-left: 1px solid gray;box-sizing: border-box;top: 0;bottom: 0;left: 50%;z-index: 0;}#sk-container-id-4 div.sk-serial {display: flex;flex-direction: column;align-items: center;background-color: white;padding-right: 0.2em;padding-left: 0.2em;position: relative;}#sk-container-id-4 div.sk-item {position: relative;z-index: 1;}#sk-container-id-4 div.sk-parallel {display: flex;align-items: stretch;justify-content: center;background-color: white;position: relative;}#sk-container-id-4 div.sk-item::before, #sk-container-id-4 div.sk-parallel-item::before {content: \"\";position: absolute;border-left: 1px solid gray;box-sizing: border-box;top: 0;bottom: 0;left: 50%;z-index: -1;}#sk-container-id-4 div.sk-parallel-item {display: flex;flex-direction: column;z-index: 1;position: relative;background-color: white;}#sk-container-id-4 div.sk-parallel-item:first-child::after {align-self: flex-end;width: 50%;}#sk-container-id-4 div.sk-parallel-item:last-child::after {align-self: flex-start;width: 50%;}#sk-container-id-4 div.sk-parallel-item:only-child::after {width: 0;}#sk-container-id-4 div.sk-dashed-wrapped {border: 1px dashed gray;margin: 0 0.4em 0.5em 0.4em;box-sizing: border-box;padding-bottom: 0.4em;background-color: white;}#sk-container-id-4 div.sk-label label {font-family: monospace;font-weight: bold;display: inline-block;line-height: 1.2em;}#sk-container-id-4 div.sk-label-container {text-align: center;}#sk-container-id-4 div.sk-container {/* jupyter's `normalize.less` sets `[hidden] { display: none; }` but bootstrap.min.css set `[hidden] { display: none !important; }` so we also need the `!important` here to be able to override the default hidden behavior on the sphinx rendered scikit-learn.org. See: https://github.com/scikit-learn/scikit-learn/issues/21755 */display: inline-block !important;position: relative;}#sk-container-id-4 div.sk-text-repr-fallback {display: none;}</style><div id=\"sk-container-id-4\" class=\"sk-top-container\"><div class=\"sk-text-repr-fallback\"><pre>RandomForestRegressor()</pre><b>In a Jupyter environment, please rerun this cell to show the HTML representation or trust the notebook. <br />On GitHub, the HTML representation is unable to render, please try loading this page with nbviewer.org.</b></div><div class=\"sk-container\" hidden><div class=\"sk-item\"><div class=\"sk-estimator sk-toggleable\"><input class=\"sk-toggleable__control sk-hidden--visually\" id=\"sk-estimator-id-4\" type=\"checkbox\" checked><label for=\"sk-estimator-id-4\" class=\"sk-toggleable__label sk-toggleable__label-arrow\">RandomForestRegressor</label><div class=\"sk-toggleable__content\"><pre>RandomForestRegressor()</pre></div></div></div></div></div>"
      ],
      "text/plain": [
       "RandomForestRegressor()"
      ]
     },
     "execution_count": 68,
     "metadata": {},
     "output_type": "execute_result"
    }
   ],
   "source": [
    "from sklearn.ensemble import RandomForestRegressor\n",
    "rf_model=RandomForestRegressor()\n",
    "rf_model.fit(X_train, y_train)"
   ]
  },
  {
   "cell_type": "code",
   "execution_count": 69,
   "id": "a495b096",
   "metadata": {},
   "outputs": [],
   "source": [
    "y_pred = rf_model.predict(X_test)"
   ]
  },
  {
   "cell_type": "code",
   "execution_count": 70,
   "id": "accf230f",
   "metadata": {},
   "outputs": [],
   "source": [
    "def eval_metrics(actual, pred):\n",
    "    rmse = np.sqrt(mean_squared_error(actual, pred))\n",
    "    mae = mean_absolute_error(actual, pred)\n",
    "    mse = mean_squared_error(actual, pred)\n",
    "    score = r2_score(actual, pred)\n",
    "    return print(\" r2_score:\", score, \"\\n\",\"mae:\", mae, \"\\n\",\"mse:\",mse, \"\\n\",\"rmse:\",rmse)"
   ]
  },
  {
   "cell_type": "code",
   "execution_count": 71,
   "id": "9ab1e850",
   "metadata": {},
   "outputs": [
    {
     "name": "stdout",
     "output_type": "stream",
     "text": [
      " r2_score: 0.9292870063447 \n",
      " mae: 1135.4803596175075 \n",
      " mse: 3540486.1904940335 \n",
      " rmse: 1881.617971452769\n"
     ]
    }
   ],
   "source": [
    "eval_metrics(y_test,y_pred)"
   ]
  },
  {
   "cell_type": "code",
   "execution_count": 72,
   "id": "48f905f5",
   "metadata": {},
   "outputs": [],
   "source": [
    "import pickle\n",
    "pickle.dump(rf_model, open('rf_model_new', 'wb'))"
   ]
  },
  {
   "cell_type": "code",
   "execution_count": 73,
   "id": "272762b8",
   "metadata": {},
   "outputs": [],
   "source": [
    "pickle.dump(column_trans, open('transformer', 'wb'))"
   ]
  },
  {
   "cell_type": "markdown",
   "id": "55d300aa",
   "metadata": {},
   "source": [
    "# Linear Regression"
   ]
  },
  {
   "cell_type": "code",
   "execution_count": 74,
   "id": "5029c9b9",
   "metadata": {},
   "outputs": [],
   "source": [
    "scaler = MinMaxScaler()\n",
    "scaler.fit(X_train)\n",
    "\n",
    "X_train_scaled = scaler.transform(X_train)\n",
    "X_test_scaled = scaler.transform(X_test)"
   ]
  },
  {
   "cell_type": "code",
   "execution_count": 75,
   "id": "2545d18c",
   "metadata": {},
   "outputs": [
    {
     "data": {
      "text/html": [
       "<style>#sk-container-id-5 {color: black;background-color: white;}#sk-container-id-5 pre{padding: 0;}#sk-container-id-5 div.sk-toggleable {background-color: white;}#sk-container-id-5 label.sk-toggleable__label {cursor: pointer;display: block;width: 100%;margin-bottom: 0;padding: 0.3em;box-sizing: border-box;text-align: center;}#sk-container-id-5 label.sk-toggleable__label-arrow:before {content: \"▸\";float: left;margin-right: 0.25em;color: #696969;}#sk-container-id-5 label.sk-toggleable__label-arrow:hover:before {color: black;}#sk-container-id-5 div.sk-estimator:hover label.sk-toggleable__label-arrow:before {color: black;}#sk-container-id-5 div.sk-toggleable__content {max-height: 0;max-width: 0;overflow: hidden;text-align: left;background-color: #f0f8ff;}#sk-container-id-5 div.sk-toggleable__content pre {margin: 0.2em;color: black;border-radius: 0.25em;background-color: #f0f8ff;}#sk-container-id-5 input.sk-toggleable__control:checked~div.sk-toggleable__content {max-height: 200px;max-width: 100%;overflow: auto;}#sk-container-id-5 input.sk-toggleable__control:checked~label.sk-toggleable__label-arrow:before {content: \"▾\";}#sk-container-id-5 div.sk-estimator input.sk-toggleable__control:checked~label.sk-toggleable__label {background-color: #d4ebff;}#sk-container-id-5 div.sk-label input.sk-toggleable__control:checked~label.sk-toggleable__label {background-color: #d4ebff;}#sk-container-id-5 input.sk-hidden--visually {border: 0;clip: rect(1px 1px 1px 1px);clip: rect(1px, 1px, 1px, 1px);height: 1px;margin: -1px;overflow: hidden;padding: 0;position: absolute;width: 1px;}#sk-container-id-5 div.sk-estimator {font-family: monospace;background-color: #f0f8ff;border: 1px dotted black;border-radius: 0.25em;box-sizing: border-box;margin-bottom: 0.5em;}#sk-container-id-5 div.sk-estimator:hover {background-color: #d4ebff;}#sk-container-id-5 div.sk-parallel-item::after {content: \"\";width: 100%;border-bottom: 1px solid gray;flex-grow: 1;}#sk-container-id-5 div.sk-label:hover label.sk-toggleable__label {background-color: #d4ebff;}#sk-container-id-5 div.sk-serial::before {content: \"\";position: absolute;border-left: 1px solid gray;box-sizing: border-box;top: 0;bottom: 0;left: 50%;z-index: 0;}#sk-container-id-5 div.sk-serial {display: flex;flex-direction: column;align-items: center;background-color: white;padding-right: 0.2em;padding-left: 0.2em;position: relative;}#sk-container-id-5 div.sk-item {position: relative;z-index: 1;}#sk-container-id-5 div.sk-parallel {display: flex;align-items: stretch;justify-content: center;background-color: white;position: relative;}#sk-container-id-5 div.sk-item::before, #sk-container-id-5 div.sk-parallel-item::before {content: \"\";position: absolute;border-left: 1px solid gray;box-sizing: border-box;top: 0;bottom: 0;left: 50%;z-index: -1;}#sk-container-id-5 div.sk-parallel-item {display: flex;flex-direction: column;z-index: 1;position: relative;background-color: white;}#sk-container-id-5 div.sk-parallel-item:first-child::after {align-self: flex-end;width: 50%;}#sk-container-id-5 div.sk-parallel-item:last-child::after {align-self: flex-start;width: 50%;}#sk-container-id-5 div.sk-parallel-item:only-child::after {width: 0;}#sk-container-id-5 div.sk-dashed-wrapped {border: 1px dashed gray;margin: 0 0.4em 0.5em 0.4em;box-sizing: border-box;padding-bottom: 0.4em;background-color: white;}#sk-container-id-5 div.sk-label label {font-family: monospace;font-weight: bold;display: inline-block;line-height: 1.2em;}#sk-container-id-5 div.sk-label-container {text-align: center;}#sk-container-id-5 div.sk-container {/* jupyter's `normalize.less` sets `[hidden] { display: none; }` but bootstrap.min.css set `[hidden] { display: none !important; }` so we also need the `!important` here to be able to override the default hidden behavior on the sphinx rendered scikit-learn.org. See: https://github.com/scikit-learn/scikit-learn/issues/21755 */display: inline-block !important;position: relative;}#sk-container-id-5 div.sk-text-repr-fallback {display: none;}</style><div id=\"sk-container-id-5\" class=\"sk-top-container\"><div class=\"sk-text-repr-fallback\"><pre>LinearRegression()</pre><b>In a Jupyter environment, please rerun this cell to show the HTML representation or trust the notebook. <br />On GitHub, the HTML representation is unable to render, please try loading this page with nbviewer.org.</b></div><div class=\"sk-container\" hidden><div class=\"sk-item\"><div class=\"sk-estimator sk-toggleable\"><input class=\"sk-toggleable__control sk-hidden--visually\" id=\"sk-estimator-id-5\" type=\"checkbox\" checked><label for=\"sk-estimator-id-5\" class=\"sk-toggleable__label sk-toggleable__label-arrow\">LinearRegression</label><div class=\"sk-toggleable__content\"><pre>LinearRegression()</pre></div></div></div></div></div>"
      ],
      "text/plain": [
       "LinearRegression()"
      ]
     },
     "execution_count": 75,
     "metadata": {},
     "output_type": "execute_result"
    }
   ],
   "source": [
    "from sklearn.linear_model import LinearRegression\n",
    "lm = LinearRegression()\n",
    "lm.fit(X_train_scaled, y_train)"
   ]
  },
  {
   "cell_type": "code",
   "execution_count": 76,
   "id": "a9a7f0c6",
   "metadata": {},
   "outputs": [],
   "source": [
    "y_pred2 = lm.predict(X_test)"
   ]
  },
  {
   "cell_type": "code",
   "execution_count": 77,
   "id": "c73c0b82",
   "metadata": {},
   "outputs": [
    {
     "name": "stdout",
     "output_type": "stream",
     "text": [
      " r2_score: -6760542387.6655035 \n",
      " mae: 378712393.24669784 \n",
      " mse: 3.384895155761201e+17 \n",
      " rmse: 581798518.0250291\n"
     ]
    }
   ],
   "source": [
    "eval_metrics(y_test,y_pred2)"
   ]
  },
  {
   "cell_type": "code",
   "execution_count": 78,
   "id": "35b043e9",
   "metadata": {},
   "outputs": [],
   "source": [
    "import pickle\n",
    "pickle.dump(lm, open('LM_model_new', 'wb'))"
   ]
  },
  {
   "cell_type": "code",
   "execution_count": null,
   "id": "09414731",
   "metadata": {},
   "outputs": [],
   "source": []
  },
  {
   "cell_type": "markdown",
   "id": "c114a4fb",
   "metadata": {},
   "source": [
    "# Ridge"
   ]
  },
  {
   "cell_type": "code",
   "execution_count": 63,
   "id": "4da39722",
   "metadata": {},
   "outputs": [
    {
     "data": {
      "text/html": [
       "<style>#sk-container-id-3 {color: black;background-color: white;}#sk-container-id-3 pre{padding: 0;}#sk-container-id-3 div.sk-toggleable {background-color: white;}#sk-container-id-3 label.sk-toggleable__label {cursor: pointer;display: block;width: 100%;margin-bottom: 0;padding: 0.3em;box-sizing: border-box;text-align: center;}#sk-container-id-3 label.sk-toggleable__label-arrow:before {content: \"▸\";float: left;margin-right: 0.25em;color: #696969;}#sk-container-id-3 label.sk-toggleable__label-arrow:hover:before {color: black;}#sk-container-id-3 div.sk-estimator:hover label.sk-toggleable__label-arrow:before {color: black;}#sk-container-id-3 div.sk-toggleable__content {max-height: 0;max-width: 0;overflow: hidden;text-align: left;background-color: #f0f8ff;}#sk-container-id-3 div.sk-toggleable__content pre {margin: 0.2em;color: black;border-radius: 0.25em;background-color: #f0f8ff;}#sk-container-id-3 input.sk-toggleable__control:checked~div.sk-toggleable__content {max-height: 200px;max-width: 100%;overflow: auto;}#sk-container-id-3 input.sk-toggleable__control:checked~label.sk-toggleable__label-arrow:before {content: \"▾\";}#sk-container-id-3 div.sk-estimator input.sk-toggleable__control:checked~label.sk-toggleable__label {background-color: #d4ebff;}#sk-container-id-3 div.sk-label input.sk-toggleable__control:checked~label.sk-toggleable__label {background-color: #d4ebff;}#sk-container-id-3 input.sk-hidden--visually {border: 0;clip: rect(1px 1px 1px 1px);clip: rect(1px, 1px, 1px, 1px);height: 1px;margin: -1px;overflow: hidden;padding: 0;position: absolute;width: 1px;}#sk-container-id-3 div.sk-estimator {font-family: monospace;background-color: #f0f8ff;border: 1px dotted black;border-radius: 0.25em;box-sizing: border-box;margin-bottom: 0.5em;}#sk-container-id-3 div.sk-estimator:hover {background-color: #d4ebff;}#sk-container-id-3 div.sk-parallel-item::after {content: \"\";width: 100%;border-bottom: 1px solid gray;flex-grow: 1;}#sk-container-id-3 div.sk-label:hover label.sk-toggleable__label {background-color: #d4ebff;}#sk-container-id-3 div.sk-serial::before {content: \"\";position: absolute;border-left: 1px solid gray;box-sizing: border-box;top: 0;bottom: 0;left: 50%;z-index: 0;}#sk-container-id-3 div.sk-serial {display: flex;flex-direction: column;align-items: center;background-color: white;padding-right: 0.2em;padding-left: 0.2em;position: relative;}#sk-container-id-3 div.sk-item {position: relative;z-index: 1;}#sk-container-id-3 div.sk-parallel {display: flex;align-items: stretch;justify-content: center;background-color: white;position: relative;}#sk-container-id-3 div.sk-item::before, #sk-container-id-3 div.sk-parallel-item::before {content: \"\";position: absolute;border-left: 1px solid gray;box-sizing: border-box;top: 0;bottom: 0;left: 50%;z-index: -1;}#sk-container-id-3 div.sk-parallel-item {display: flex;flex-direction: column;z-index: 1;position: relative;background-color: white;}#sk-container-id-3 div.sk-parallel-item:first-child::after {align-self: flex-end;width: 50%;}#sk-container-id-3 div.sk-parallel-item:last-child::after {align-self: flex-start;width: 50%;}#sk-container-id-3 div.sk-parallel-item:only-child::after {width: 0;}#sk-container-id-3 div.sk-dashed-wrapped {border: 1px dashed gray;margin: 0 0.4em 0.5em 0.4em;box-sizing: border-box;padding-bottom: 0.4em;background-color: white;}#sk-container-id-3 div.sk-label label {font-family: monospace;font-weight: bold;display: inline-block;line-height: 1.2em;}#sk-container-id-3 div.sk-label-container {text-align: center;}#sk-container-id-3 div.sk-container {/* jupyter's `normalize.less` sets `[hidden] { display: none; }` but bootstrap.min.css set `[hidden] { display: none !important; }` so we also need the `!important` here to be able to override the default hidden behavior on the sphinx rendered scikit-learn.org. See: https://github.com/scikit-learn/scikit-learn/issues/21755 */display: inline-block !important;position: relative;}#sk-container-id-3 div.sk-text-repr-fallback {display: none;}</style><div id=\"sk-container-id-3\" class=\"sk-top-container\"><div class=\"sk-text-repr-fallback\"><pre>Ridge()</pre><b>In a Jupyter environment, please rerun this cell to show the HTML representation or trust the notebook. <br />On GitHub, the HTML representation is unable to render, please try loading this page with nbviewer.org.</b></div><div class=\"sk-container\" hidden><div class=\"sk-item\"><div class=\"sk-estimator sk-toggleable\"><input class=\"sk-toggleable__control sk-hidden--visually\" id=\"sk-estimator-id-3\" type=\"checkbox\" checked><label for=\"sk-estimator-id-3\" class=\"sk-toggleable__label sk-toggleable__label-arrow\">Ridge</label><div class=\"sk-toggleable__content\"><pre>Ridge()</pre></div></div></div></div></div>"
      ],
      "text/plain": [
       "Ridge()"
      ]
     },
     "execution_count": 63,
     "metadata": {},
     "output_type": "execute_result"
    }
   ],
   "source": [
    "from sklearn.linear_model import Ridge\n",
    "Rd = Ridge()\n",
    "Rd.fit(X_train_scaled, y_train)"
   ]
  },
  {
   "cell_type": "code",
   "execution_count": 64,
   "id": "0433534b",
   "metadata": {},
   "outputs": [],
   "source": [
    "y_pred3 = Rd.predict(X_test)"
   ]
  },
  {
   "cell_type": "code",
   "execution_count": 81,
   "id": "a8424264",
   "metadata": {},
   "outputs": [
    {
     "name": "stdout",
     "output_type": "stream",
     "text": [
      " r2_score: -6531454105.443918 \n",
      " mae: 372232056.5324114 \n",
      " mse: 3.2701943267221626e+17 \n",
      " rmse: 571856129.3474227\n"
     ]
    }
   ],
   "source": [
    "eval_metrics(y_test,y_pred3)"
   ]
  },
  {
   "cell_type": "code",
   "execution_count": 79,
   "id": "3da6f60f",
   "metadata": {},
   "outputs": [],
   "source": [
    "import pickle\n",
    "pickle.dump(Rd, open('Rd_model_new', 'wb'))"
   ]
  },
  {
   "cell_type": "markdown",
   "id": "b816c918",
   "metadata": {},
   "source": [
    "# Lasso"
   ]
  },
  {
   "cell_type": "code",
   "execution_count": 80,
   "id": "cd0950ce",
   "metadata": {},
   "outputs": [
    {
     "data": {
      "text/html": [
       "<style>#sk-container-id-6 {color: black;background-color: white;}#sk-container-id-6 pre{padding: 0;}#sk-container-id-6 div.sk-toggleable {background-color: white;}#sk-container-id-6 label.sk-toggleable__label {cursor: pointer;display: block;width: 100%;margin-bottom: 0;padding: 0.3em;box-sizing: border-box;text-align: center;}#sk-container-id-6 label.sk-toggleable__label-arrow:before {content: \"▸\";float: left;margin-right: 0.25em;color: #696969;}#sk-container-id-6 label.sk-toggleable__label-arrow:hover:before {color: black;}#sk-container-id-6 div.sk-estimator:hover label.sk-toggleable__label-arrow:before {color: black;}#sk-container-id-6 div.sk-toggleable__content {max-height: 0;max-width: 0;overflow: hidden;text-align: left;background-color: #f0f8ff;}#sk-container-id-6 div.sk-toggleable__content pre {margin: 0.2em;color: black;border-radius: 0.25em;background-color: #f0f8ff;}#sk-container-id-6 input.sk-toggleable__control:checked~div.sk-toggleable__content {max-height: 200px;max-width: 100%;overflow: auto;}#sk-container-id-6 input.sk-toggleable__control:checked~label.sk-toggleable__label-arrow:before {content: \"▾\";}#sk-container-id-6 div.sk-estimator input.sk-toggleable__control:checked~label.sk-toggleable__label {background-color: #d4ebff;}#sk-container-id-6 div.sk-label input.sk-toggleable__control:checked~label.sk-toggleable__label {background-color: #d4ebff;}#sk-container-id-6 input.sk-hidden--visually {border: 0;clip: rect(1px 1px 1px 1px);clip: rect(1px, 1px, 1px, 1px);height: 1px;margin: -1px;overflow: hidden;padding: 0;position: absolute;width: 1px;}#sk-container-id-6 div.sk-estimator {font-family: monospace;background-color: #f0f8ff;border: 1px dotted black;border-radius: 0.25em;box-sizing: border-box;margin-bottom: 0.5em;}#sk-container-id-6 div.sk-estimator:hover {background-color: #d4ebff;}#sk-container-id-6 div.sk-parallel-item::after {content: \"\";width: 100%;border-bottom: 1px solid gray;flex-grow: 1;}#sk-container-id-6 div.sk-label:hover label.sk-toggleable__label {background-color: #d4ebff;}#sk-container-id-6 div.sk-serial::before {content: \"\";position: absolute;border-left: 1px solid gray;box-sizing: border-box;top: 0;bottom: 0;left: 50%;z-index: 0;}#sk-container-id-6 div.sk-serial {display: flex;flex-direction: column;align-items: center;background-color: white;padding-right: 0.2em;padding-left: 0.2em;position: relative;}#sk-container-id-6 div.sk-item {position: relative;z-index: 1;}#sk-container-id-6 div.sk-parallel {display: flex;align-items: stretch;justify-content: center;background-color: white;position: relative;}#sk-container-id-6 div.sk-item::before, #sk-container-id-6 div.sk-parallel-item::before {content: \"\";position: absolute;border-left: 1px solid gray;box-sizing: border-box;top: 0;bottom: 0;left: 50%;z-index: -1;}#sk-container-id-6 div.sk-parallel-item {display: flex;flex-direction: column;z-index: 1;position: relative;background-color: white;}#sk-container-id-6 div.sk-parallel-item:first-child::after {align-self: flex-end;width: 50%;}#sk-container-id-6 div.sk-parallel-item:last-child::after {align-self: flex-start;width: 50%;}#sk-container-id-6 div.sk-parallel-item:only-child::after {width: 0;}#sk-container-id-6 div.sk-dashed-wrapped {border: 1px dashed gray;margin: 0 0.4em 0.5em 0.4em;box-sizing: border-box;padding-bottom: 0.4em;background-color: white;}#sk-container-id-6 div.sk-label label {font-family: monospace;font-weight: bold;display: inline-block;line-height: 1.2em;}#sk-container-id-6 div.sk-label-container {text-align: center;}#sk-container-id-6 div.sk-container {/* jupyter's `normalize.less` sets `[hidden] { display: none; }` but bootstrap.min.css set `[hidden] { display: none !important; }` so we also need the `!important` here to be able to override the default hidden behavior on the sphinx rendered scikit-learn.org. See: https://github.com/scikit-learn/scikit-learn/issues/21755 */display: inline-block !important;position: relative;}#sk-container-id-6 div.sk-text-repr-fallback {display: none;}</style><div id=\"sk-container-id-6\" class=\"sk-top-container\"><div class=\"sk-text-repr-fallback\"><pre>Lasso()</pre><b>In a Jupyter environment, please rerun this cell to show the HTML representation or trust the notebook. <br />On GitHub, the HTML representation is unable to render, please try loading this page with nbviewer.org.</b></div><div class=\"sk-container\" hidden><div class=\"sk-item\"><div class=\"sk-estimator sk-toggleable\"><input class=\"sk-toggleable__control sk-hidden--visually\" id=\"sk-estimator-id-6\" type=\"checkbox\" checked><label for=\"sk-estimator-id-6\" class=\"sk-toggleable__label sk-toggleable__label-arrow\">Lasso</label><div class=\"sk-toggleable__content\"><pre>Lasso()</pre></div></div></div></div></div>"
      ],
      "text/plain": [
       "Lasso()"
      ]
     },
     "execution_count": 80,
     "metadata": {},
     "output_type": "execute_result"
    }
   ],
   "source": [
    "from sklearn.linear_model import Lasso\n",
    "Ls = Lasso()\n",
    "Ls.fit(X_train_scaled, y_train)"
   ]
  },
  {
   "cell_type": "code",
   "execution_count": 84,
   "id": "26b88ad1",
   "metadata": {},
   "outputs": [],
   "source": [
    "y_pred4 = Ls.predict(X_test)"
   ]
  },
  {
   "cell_type": "code",
   "execution_count": 85,
   "id": "bbe76101",
   "metadata": {},
   "outputs": [
    {
     "name": "stdout",
     "output_type": "stream",
     "text": [
      " r2_score: -6591683557.310231 \n",
      " mae: 373942488.4177701 \n",
      " mse: 3.300350247377025e+17 \n",
      " rmse: 574486748.9661554\n"
     ]
    }
   ],
   "source": [
    "eval_metrics(y_test,y_pred4)"
   ]
  },
  {
   "cell_type": "code",
   "execution_count": 86,
   "id": "f0e899db",
   "metadata": {},
   "outputs": [],
   "source": [
    "import pickle\n",
    "pickle.dump(Ls, open('Ls_model_new', 'wb'))"
   ]
  },
  {
   "cell_type": "markdown",
   "id": "d7f51c58",
   "metadata": {},
   "source": [
    "# Deployement"
   ]
  },
  {
   "cell_type": "code",
   "execution_count": 96,
   "id": "612ed8e2",
   "metadata": {},
   "outputs": [],
   "source": [
    "model_1 = pickle.load(open('rf_model_new', 'rb'))"
   ]
  },
  {
   "cell_type": "code",
   "execution_count": 97,
   "id": "bced8a1e",
   "metadata": {},
   "outputs": [],
   "source": [
    "model_2 = pickle.load(open('LM_model_new', 'rb'))"
   ]
  },
  {
   "cell_type": "code",
   "execution_count": 98,
   "id": "69b89f88",
   "metadata": {},
   "outputs": [],
   "source": [
    "model_3 = pickle.load(open('Rd_model_new', 'rb'))"
   ]
  },
  {
   "cell_type": "code",
   "execution_count": 99,
   "id": "8d1fd58e",
   "metadata": {},
   "outputs": [],
   "source": [
    "model_4 = pickle.load(open('Ls_model_new', 'rb'))"
   ]
  },
  {
   "cell_type": "code",
   "execution_count": 88,
   "id": "c71e2ebb",
   "metadata": {},
   "outputs": [],
   "source": [
    "transformer_1 = pickle.load(open('transformer', 'rb'))"
   ]
  },
  {
   "cell_type": "code",
   "execution_count": 89,
   "id": "9bd06865",
   "metadata": {},
   "outputs": [
    {
     "data": {
      "text/plain": [
       "['age', 'hp_kW', 'km', 'Gearing_Type', 'make_model']"
      ]
     },
     "execution_count": 89,
     "metadata": {},
     "output_type": "execute_result"
    }
   ],
   "source": [
    "columns=list(X.columns)\n",
    "columns"
   ]
  },
  {
   "cell_type": "code",
   "execution_count": 90,
   "id": "15a5e9e0",
   "metadata": {},
   "outputs": [],
   "source": [
    "my_dict = {\n",
    "    \"age\": 2,\n",
    "    \"hp_kW\": 105,\n",
    "    \"km\": 100000,\n",
    "    \"Gearing_Type\":\"Automatic\",\n",
    "    \"make_model\": 'Audi A3'\n",
    "}"
   ]
  },
  {
   "cell_type": "code",
   "execution_count": 91,
   "id": "9fb72c63",
   "metadata": {},
   "outputs": [],
   "source": [
    "df = pd.DataFrame.from_dict([my_dict])"
   ]
  },
  {
   "cell_type": "code",
   "execution_count": 92,
   "id": "a2588c00",
   "metadata": {},
   "outputs": [],
   "source": [
    "df2 = transformer_1.transform(df)"
   ]
  },
  {
   "cell_type": "code",
   "execution_count": 93,
   "id": "18248581",
   "metadata": {},
   "outputs": [
    {
     "data": {
      "text/plain": [
       "0         0.0\n",
       "1         1.0\n",
       "2         2.0\n",
       "3       105.0\n",
       "4   100,000.0\n",
       "dtype: float64"
      ]
     },
     "execution_count": 93,
     "metadata": {},
     "output_type": "execute_result"
    }
   ],
   "source": [
    "pd.Series(df2[0])"
   ]
  },
  {
   "cell_type": "code",
   "execution_count": 94,
   "id": "48217554",
   "metadata": {},
   "outputs": [
    {
     "name": "stdout",
     "output_type": "stream",
     "text": [
      "[19088.25]\n"
     ]
    }
   ],
   "source": [
    "prediction = model_1.predict(df2)\n",
    "print(prediction)"
   ]
  },
  {
   "cell_type": "code",
   "execution_count": 95,
   "id": "63fbeae8",
   "metadata": {},
   "outputs": [
    {
     "name": "stdout",
     "output_type": "stream",
     "text": [
      "The estimated price of your car is €19088. \n"
     ]
    }
   ],
   "source": [
    "print(\"The estimated price of your car is €{}. \".format(int(prediction[0])))"
   ]
  },
  {
   "cell_type": "code",
   "execution_count": 100,
   "id": "1065deea",
   "metadata": {},
   "outputs": [
    {
     "name": "stdout",
     "output_type": "stream",
     "text": [
      "[-1.20385358e+09]\n"
     ]
    }
   ],
   "source": [
    "prediction = model_2.predict(df2)\n",
    "print(prediction)"
   ]
  },
  {
   "cell_type": "code",
   "execution_count": 101,
   "id": "9f0fcb8f",
   "metadata": {},
   "outputs": [
    {
     "name": "stdout",
     "output_type": "stream",
     "text": [
      "[-1.18328631e+09]\n"
     ]
    }
   ],
   "source": [
    "prediction = model_3.predict(df2)\n",
    "print(prediction)"
   ]
  },
  {
   "cell_type": "code",
   "execution_count": 102,
   "id": "0df04721",
   "metadata": {},
   "outputs": [
    {
     "name": "stdout",
     "output_type": "stream",
     "text": [
      "[-1.18873103e+09]\n"
     ]
    }
   ],
   "source": [
    "prediction = model_4.predict(df2)\n",
    "print(prediction)"
   ]
  },
  {
   "cell_type": "code",
   "execution_count": null,
   "id": "e5854690",
   "metadata": {},
   "outputs": [],
   "source": []
  }
 ],
 "metadata": {
  "kernelspec": {
   "display_name": "Python 3 (ipykernel)",
   "language": "python",
   "name": "python3"
  },
  "language_info": {
   "codemirror_mode": {
    "name": "ipython",
    "version": 3
   },
   "file_extension": ".py",
   "mimetype": "text/x-python",
   "name": "python",
   "nbconvert_exporter": "python",
   "pygments_lexer": "ipython3",
   "version": "3.10.6"
  }
 },
 "nbformat": 4,
 "nbformat_minor": 5
}
